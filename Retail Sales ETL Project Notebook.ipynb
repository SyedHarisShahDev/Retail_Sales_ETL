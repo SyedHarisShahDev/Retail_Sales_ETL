{
  "nbformat": 4,
  "nbformat_minor": 0,
  "metadata": {
    "colab": {
      "provenance": []
    },
    "kernelspec": {
      "name": "python3",
      "display_name": "Python 3"
    },
    "language_info": {
      "name": "python"
    }
  },
  "cells": [
    {
      "cell_type": "code",
      "execution_count": 9,
      "metadata": {
        "id": "pzE5z90NCovc"
      },
      "outputs": [],
      "source": [
        "# Install Java\n",
        "\n",
        "!apt-get install openjdk-8-jdk-headless -qq > /dev/null\n"
      ]
    },
    {
      "cell_type": "code",
      "source": [
        "!java -version"
      ],
      "metadata": {
        "colab": {
          "base_uri": "https://localhost:8080/"
        },
        "id": "-szoKG3nCxZy",
        "outputId": "c0f09520-bb79-4440-ede1-cb5d54553efb"
      },
      "execution_count": 10,
      "outputs": [
        {
          "output_type": "stream",
          "name": "stdout",
          "text": [
            "openjdk version \"11.0.27\" 2025-04-15\n",
            "OpenJDK Runtime Environment (build 11.0.27+6-post-Ubuntu-0ubuntu122.04)\n",
            "OpenJDK 64-Bit Server VM (build 11.0.27+6-post-Ubuntu-0ubuntu122.04, mixed mode, sharing)\n"
          ]
        }
      ]
    },
    {
      "cell_type": "code",
      "source": [
        "!pip install pyspark"
      ],
      "metadata": {
        "colab": {
          "base_uri": "https://localhost:8080/"
        },
        "id": "Mdh_NxWbC8zU",
        "outputId": "51fb0b43-a451-4f7b-8574-f09a9f8556f6"
      },
      "execution_count": 11,
      "outputs": [
        {
          "output_type": "stream",
          "name": "stdout",
          "text": [
            "Requirement already satisfied: pyspark in /usr/local/lib/python3.11/dist-packages (3.5.1)\n",
            "Requirement already satisfied: py4j==0.10.9.7 in /usr/local/lib/python3.11/dist-packages (from pyspark) (0.10.9.7)\n"
          ]
        }
      ]
    },
    {
      "cell_type": "code",
      "source": [
        "from pyspark.sql import SparkSession\n",
        "from pyspark.sql.functions import *"
      ],
      "metadata": {
        "id": "Tnej387EC_ty"
      },
      "execution_count": 12,
      "outputs": []
    },
    {
      "cell_type": "code",
      "source": [
        "# Create a Spark session\n",
        "\n",
        "spark = SparkSession.builder \\\n",
        "    .appName(\"RetailSalesETLPipeline\") \\\n",
        "    .getOrCreate()"
      ],
      "metadata": {
        "id": "8kHcoi7EDDQE"
      },
      "execution_count": 13,
      "outputs": []
    },
    {
      "cell_type": "code",
      "source": [
        "# Upload files\n",
        "\n",
        "from google.colab import files\n",
        "uploaded = files.upload()"
      ],
      "metadata": {
        "colab": {
          "base_uri": "https://localhost:8080/",
          "height": 73
        },
        "id": "kNHU25tODHbl",
        "outputId": "27919688-2f3e-4c6a-f588-538dc8b4fb5e"
      },
      "execution_count": 14,
      "outputs": [
        {
          "output_type": "display_data",
          "data": {
            "text/plain": [
              "<IPython.core.display.HTML object>"
            ],
            "text/html": [
              "\n",
              "     <input type=\"file\" id=\"files-5e91da23-4e84-4b7b-bdea-e22ee774e128\" name=\"files[]\" multiple disabled\n",
              "        style=\"border:none\" />\n",
              "     <output id=\"result-5e91da23-4e84-4b7b-bdea-e22ee774e128\">\n",
              "      Upload widget is only available when the cell has been executed in the\n",
              "      current browser session. Please rerun this cell to enable.\n",
              "      </output>\n",
              "      <script>// Copyright 2017 Google LLC\n",
              "//\n",
              "// Licensed under the Apache License, Version 2.0 (the \"License\");\n",
              "// you may not use this file except in compliance with the License.\n",
              "// You may obtain a copy of the License at\n",
              "//\n",
              "//      http://www.apache.org/licenses/LICENSE-2.0\n",
              "//\n",
              "// Unless required by applicable law or agreed to in writing, software\n",
              "// distributed under the License is distributed on an \"AS IS\" BASIS,\n",
              "// WITHOUT WARRANTIES OR CONDITIONS OF ANY KIND, either express or implied.\n",
              "// See the License for the specific language governing permissions and\n",
              "// limitations under the License.\n",
              "\n",
              "/**\n",
              " * @fileoverview Helpers for google.colab Python module.\n",
              " */\n",
              "(function(scope) {\n",
              "function span(text, styleAttributes = {}) {\n",
              "  const element = document.createElement('span');\n",
              "  element.textContent = text;\n",
              "  for (const key of Object.keys(styleAttributes)) {\n",
              "    element.style[key] = styleAttributes[key];\n",
              "  }\n",
              "  return element;\n",
              "}\n",
              "\n",
              "// Max number of bytes which will be uploaded at a time.\n",
              "const MAX_PAYLOAD_SIZE = 100 * 1024;\n",
              "\n",
              "function _uploadFiles(inputId, outputId) {\n",
              "  const steps = uploadFilesStep(inputId, outputId);\n",
              "  const outputElement = document.getElementById(outputId);\n",
              "  // Cache steps on the outputElement to make it available for the next call\n",
              "  // to uploadFilesContinue from Python.\n",
              "  outputElement.steps = steps;\n",
              "\n",
              "  return _uploadFilesContinue(outputId);\n",
              "}\n",
              "\n",
              "// This is roughly an async generator (not supported in the browser yet),\n",
              "// where there are multiple asynchronous steps and the Python side is going\n",
              "// to poll for completion of each step.\n",
              "// This uses a Promise to block the python side on completion of each step,\n",
              "// then passes the result of the previous step as the input to the next step.\n",
              "function _uploadFilesContinue(outputId) {\n",
              "  const outputElement = document.getElementById(outputId);\n",
              "  const steps = outputElement.steps;\n",
              "\n",
              "  const next = steps.next(outputElement.lastPromiseValue);\n",
              "  return Promise.resolve(next.value.promise).then((value) => {\n",
              "    // Cache the last promise value to make it available to the next\n",
              "    // step of the generator.\n",
              "    outputElement.lastPromiseValue = value;\n",
              "    return next.value.response;\n",
              "  });\n",
              "}\n",
              "\n",
              "/**\n",
              " * Generator function which is called between each async step of the upload\n",
              " * process.\n",
              " * @param {string} inputId Element ID of the input file picker element.\n",
              " * @param {string} outputId Element ID of the output display.\n",
              " * @return {!Iterable<!Object>} Iterable of next steps.\n",
              " */\n",
              "function* uploadFilesStep(inputId, outputId) {\n",
              "  const inputElement = document.getElementById(inputId);\n",
              "  inputElement.disabled = false;\n",
              "\n",
              "  const outputElement = document.getElementById(outputId);\n",
              "  outputElement.innerHTML = '';\n",
              "\n",
              "  const pickedPromise = new Promise((resolve) => {\n",
              "    inputElement.addEventListener('change', (e) => {\n",
              "      resolve(e.target.files);\n",
              "    });\n",
              "  });\n",
              "\n",
              "  const cancel = document.createElement('button');\n",
              "  inputElement.parentElement.appendChild(cancel);\n",
              "  cancel.textContent = 'Cancel upload';\n",
              "  const cancelPromise = new Promise((resolve) => {\n",
              "    cancel.onclick = () => {\n",
              "      resolve(null);\n",
              "    };\n",
              "  });\n",
              "\n",
              "  // Wait for the user to pick the files.\n",
              "  const files = yield {\n",
              "    promise: Promise.race([pickedPromise, cancelPromise]),\n",
              "    response: {\n",
              "      action: 'starting',\n",
              "    }\n",
              "  };\n",
              "\n",
              "  cancel.remove();\n",
              "\n",
              "  // Disable the input element since further picks are not allowed.\n",
              "  inputElement.disabled = true;\n",
              "\n",
              "  if (!files) {\n",
              "    return {\n",
              "      response: {\n",
              "        action: 'complete',\n",
              "      }\n",
              "    };\n",
              "  }\n",
              "\n",
              "  for (const file of files) {\n",
              "    const li = document.createElement('li');\n",
              "    li.append(span(file.name, {fontWeight: 'bold'}));\n",
              "    li.append(span(\n",
              "        `(${file.type || 'n/a'}) - ${file.size} bytes, ` +\n",
              "        `last modified: ${\n",
              "            file.lastModifiedDate ? file.lastModifiedDate.toLocaleDateString() :\n",
              "                                    'n/a'} - `));\n",
              "    const percent = span('0% done');\n",
              "    li.appendChild(percent);\n",
              "\n",
              "    outputElement.appendChild(li);\n",
              "\n",
              "    const fileDataPromise = new Promise((resolve) => {\n",
              "      const reader = new FileReader();\n",
              "      reader.onload = (e) => {\n",
              "        resolve(e.target.result);\n",
              "      };\n",
              "      reader.readAsArrayBuffer(file);\n",
              "    });\n",
              "    // Wait for the data to be ready.\n",
              "    let fileData = yield {\n",
              "      promise: fileDataPromise,\n",
              "      response: {\n",
              "        action: 'continue',\n",
              "      }\n",
              "    };\n",
              "\n",
              "    // Use a chunked sending to avoid message size limits. See b/62115660.\n",
              "    let position = 0;\n",
              "    do {\n",
              "      const length = Math.min(fileData.byteLength - position, MAX_PAYLOAD_SIZE);\n",
              "      const chunk = new Uint8Array(fileData, position, length);\n",
              "      position += length;\n",
              "\n",
              "      const base64 = btoa(String.fromCharCode.apply(null, chunk));\n",
              "      yield {\n",
              "        response: {\n",
              "          action: 'append',\n",
              "          file: file.name,\n",
              "          data: base64,\n",
              "        },\n",
              "      };\n",
              "\n",
              "      let percentDone = fileData.byteLength === 0 ?\n",
              "          100 :\n",
              "          Math.round((position / fileData.byteLength) * 100);\n",
              "      percent.textContent = `${percentDone}% done`;\n",
              "\n",
              "    } while (position < fileData.byteLength);\n",
              "  }\n",
              "\n",
              "  // All done.\n",
              "  yield {\n",
              "    response: {\n",
              "      action: 'complete',\n",
              "    }\n",
              "  };\n",
              "}\n",
              "\n",
              "scope.google = scope.google || {};\n",
              "scope.google.colab = scope.google.colab || {};\n",
              "scope.google.colab._files = {\n",
              "  _uploadFiles,\n",
              "  _uploadFilesContinue,\n",
              "};\n",
              "})(self);\n",
              "</script> "
            ]
          },
          "metadata": {}
        },
        {
          "output_type": "stream",
          "name": "stdout",
          "text": [
            "Saving Retail Sales Original Dataset.csv to Retail Sales Original Dataset (1).csv\n"
          ]
        }
      ]
    },
    {
      "cell_type": "code",
      "source": [
        "from google.colab import drive\n",
        "drive.mount('/content/drive')"
      ],
      "metadata": {
        "id": "mh-zO6PbXUg4"
      },
      "execution_count": null,
      "outputs": []
    },
    {
      "cell_type": "markdown",
      "source": [
        "**EXTRACT**"
      ],
      "metadata": {
        "id": "splLQMlADYt3"
      }
    },
    {
      "cell_type": "code",
      "source": [
        "df = spark.read.option(\"header\", True).option(\"inferSchema\", True).csv(\"Retail Sales Original Dataset.csv\")"
      ],
      "metadata": {
        "id": "VYEclEO1DRaB"
      },
      "execution_count": 15,
      "outputs": []
    },
    {
      "cell_type": "code",
      "source": [
        "df.show(10)"
      ],
      "metadata": {
        "colab": {
          "base_uri": "https://localhost:8080/"
        },
        "id": "xwa1I0kJDcaO",
        "outputId": "9ee3bd86-f813-4cca-eb52-10899fdc4b2c"
      },
      "execution_count": 16,
      "outputs": [
        {
          "output_type": "stream",
          "name": "stdout",
          "text": [
            "+---------------+-----------+----------------+---------------+--------------------+--------+-----------------+-------------------------+-----------+--------------------+-----------------+-----------------+\n",
            "|Item_Identifier|Item_Weight|Item_Fat_Content|Item_Visibility|           Item_Type|Item_MRP|Outlet_Identifier|Outlet_Establishment_Year|Outlet_Size|Outlet_Location_Type|      Outlet_Type|Item_Outlet_Sales|\n",
            "+---------------+-----------+----------------+---------------+--------------------+--------+-----------------+-------------------------+-----------+--------------------+-----------------+-----------------+\n",
            "|          FDA15|        9.3|         Low Fat|    0.016047301|               Dairy|249.8092|           OUT049|                     1999|     Medium|              Tier 1|Supermarket Type1|         3735.138|\n",
            "|          DRC01|       5.92|         Regular|    0.019278216|         Soft Drinks| 48.2692|           OUT018|                     2009|     Medium|              Tier 3|Supermarket Type2|         443.4228|\n",
            "|          FDN15|       17.5|         Low Fat|    0.016760075|                Meat| 141.618|           OUT049|                     1999|     Medium|              Tier 1|Supermarket Type1|          2097.27|\n",
            "|          FDX07|       19.2|         Regular|            0.0|Fruits and Vegeta...| 182.095|           OUT010|                     1998|       NULL|              Tier 3|    Grocery Store|           732.38|\n",
            "|          NCD19|       8.93|         Low Fat|            0.0|           Household| 53.8614|           OUT013|                     1987|       High|              Tier 3|Supermarket Type1|         994.7052|\n",
            "|          FDP36|     10.395|         Regular|            0.0|        Baking Goods| 51.4008|           OUT018|                     2009|     Medium|              Tier 3|Supermarket Type2|         556.6088|\n",
            "|          FDO10|      13.65|         Regular|    0.012741089|         Snack Foods| 57.6588|           OUT013|                     1987|       High|              Tier 3|Supermarket Type1|         343.5528|\n",
            "|          FDP10|       NULL|         Low Fat|    0.127469857|         Snack Foods|107.7622|           OUT027|                     1985|     Medium|              Tier 3|Supermarket Type3|        4022.7636|\n",
            "|          FDH17|       16.2|         Regular|    0.016687114|        Frozen Foods| 96.9726|           OUT045|                     2002|       NULL|              Tier 2|Supermarket Type1|        1076.5986|\n",
            "|          FDU28|       19.2|         Regular|     0.09444959|        Frozen Foods|187.8214|           OUT017|                     2007|       NULL|              Tier 2|Supermarket Type1|         4710.535|\n",
            "+---------------+-----------+----------------+---------------+--------------------+--------+-----------------+-------------------------+-----------+--------------------+-----------------+-----------------+\n",
            "only showing top 10 rows\n",
            "\n"
          ]
        }
      ]
    },
    {
      "cell_type": "code",
      "source": [
        "df.printSchema()"
      ],
      "metadata": {
        "colab": {
          "base_uri": "https://localhost:8080/"
        },
        "id": "IiZUc-0oDhTc",
        "outputId": "e88eb911-c96c-4be0-ca7c-b61b4130a315"
      },
      "execution_count": 17,
      "outputs": [
        {
          "output_type": "stream",
          "name": "stdout",
          "text": [
            "root\n",
            " |-- Item_Identifier: string (nullable = true)\n",
            " |-- Item_Weight: double (nullable = true)\n",
            " |-- Item_Fat_Content: string (nullable = true)\n",
            " |-- Item_Visibility: double (nullable = true)\n",
            " |-- Item_Type: string (nullable = true)\n",
            " |-- Item_MRP: double (nullable = true)\n",
            " |-- Outlet_Identifier: string (nullable = true)\n",
            " |-- Outlet_Establishment_Year: integer (nullable = true)\n",
            " |-- Outlet_Size: string (nullable = true)\n",
            " |-- Outlet_Location_Type: string (nullable = true)\n",
            " |-- Outlet_Type: string (nullable = true)\n",
            " |-- Item_Outlet_Sales: double (nullable = true)\n",
            "\n"
          ]
        }
      ]
    },
    {
      "cell_type": "markdown",
      "source": [
        "**TRANSFORM**"
      ],
      "metadata": {
        "id": "co68oV1kDtYR"
      }
    },
    {
      "cell_type": "code",
      "source": [
        "# Checking nulls in all columns\n",
        "\n",
        "df.select([count(when(col(c).isNull(), c)).alias(c) for c in df.columns]).show()"
      ],
      "metadata": {
        "colab": {
          "base_uri": "https://localhost:8080/"
        },
        "id": "S8-8P11-Dpjm",
        "outputId": "6ab4a864-7111-4d0a-a912-daf0bc74d6d6"
      },
      "execution_count": 18,
      "outputs": [
        {
          "output_type": "stream",
          "name": "stdout",
          "text": [
            "+---------------+-----------+----------------+---------------+---------+--------+-----------------+-------------------------+-----------+--------------------+-----------+-----------------+\n",
            "|Item_Identifier|Item_Weight|Item_Fat_Content|Item_Visibility|Item_Type|Item_MRP|Outlet_Identifier|Outlet_Establishment_Year|Outlet_Size|Outlet_Location_Type|Outlet_Type|Item_Outlet_Sales|\n",
            "+---------------+-----------+----------------+---------------+---------+--------+-----------------+-------------------------+-----------+--------------------+-----------+-----------------+\n",
            "|              0|       1463|               0|              0|        0|       0|                0|                        0|       2410|                   0|          0|                0|\n",
            "+---------------+-----------+----------------+---------------+---------+--------+-----------------+-------------------------+-----------+--------------------+-----------+-----------------+\n",
            "\n"
          ]
        }
      ]
    },
    {
      "cell_type": "code",
      "source": [
        "# -------[Filling nulls in Item_Identifier column with average weight] ---------"
      ],
      "metadata": {
        "id": "vrZjTutvDxcK"
      },
      "execution_count": 19,
      "outputs": []
    },
    {
      "cell_type": "code",
      "source": [
        "# Group by Item_Identifier and calculate average weight\n",
        "\n",
        "avg_weight_df = df.groupBy(\"Item_Identifier\") \\\n",
        "                  .agg(avg(\"Item_Weight\").alias(\"avg_weight\"))"
      ],
      "metadata": {
        "id": "S_4t7vQ0D5Id"
      },
      "execution_count": 20,
      "outputs": []
    },
    {
      "cell_type": "code",
      "source": [
        "# Join this average weight data back to the original dataset\n",
        "\n",
        "df = df.join(avg_weight_df, on=\"Item_Identifier\", how=\"left\")"
      ],
      "metadata": {
        "id": "JzTAakxeD7qZ"
      },
      "execution_count": 21,
      "outputs": []
    },
    {
      "cell_type": "code",
      "source": [
        "# Fill missing Item_Weight using avg_weight\n",
        "\n",
        "df = df.withColumn(\"Item_Weight\",\n",
        "                   when(col(\"Item_Weight\").isNull(), col(\"avg_weight\")) \\\n",
        "                   .otherwise(col(\"Item_Weight\")))"
      ],
      "metadata": {
        "id": "Y3Y5nwQVD9hu"
      },
      "execution_count": 22,
      "outputs": []
    },
    {
      "cell_type": "code",
      "source": [
        "#  Drop the helper column\n",
        "\n",
        "df = df.drop(\"avg_weight\")"
      ],
      "metadata": {
        "id": "IDkmc_0_EKlL"
      },
      "execution_count": 23,
      "outputs": []
    },
    {
      "cell_type": "code",
      "source": [
        "df.show(10)"
      ],
      "metadata": {
        "colab": {
          "base_uri": "https://localhost:8080/"
        },
        "id": "l2a5kJlqEMmv",
        "outputId": "4fd640d7-6489-4ab2-b733-a17f8b74d71a"
      },
      "execution_count": 24,
      "outputs": [
        {
          "output_type": "stream",
          "name": "stdout",
          "text": [
            "+---------------+-----------+----------------+---------------+--------------------+--------+-----------------+-------------------------+-----------+--------------------+-----------------+-----------------+\n",
            "|Item_Identifier|Item_Weight|Item_Fat_Content|Item_Visibility|           Item_Type|Item_MRP|Outlet_Identifier|Outlet_Establishment_Year|Outlet_Size|Outlet_Location_Type|      Outlet_Type|Item_Outlet_Sales|\n",
            "+---------------+-----------+----------------+---------------+--------------------+--------+-----------------+-------------------------+-----------+--------------------+-----------------+-----------------+\n",
            "|          FDA15|        9.3|         Low Fat|    0.016047301|               Dairy|249.8092|           OUT049|                     1999|     Medium|              Tier 1|Supermarket Type1|         3735.138|\n",
            "|          DRC01|       5.92|         Regular|    0.019278216|         Soft Drinks| 48.2692|           OUT018|                     2009|     Medium|              Tier 3|Supermarket Type2|         443.4228|\n",
            "|          FDN15|       17.5|         Low Fat|    0.016760075|                Meat| 141.618|           OUT049|                     1999|     Medium|              Tier 1|Supermarket Type1|          2097.27|\n",
            "|          FDX07|       19.2|         Regular|            0.0|Fruits and Vegeta...| 182.095|           OUT010|                     1998|       NULL|              Tier 3|    Grocery Store|           732.38|\n",
            "|          NCD19|       8.93|         Low Fat|            0.0|           Household| 53.8614|           OUT013|                     1987|       High|              Tier 3|Supermarket Type1|         994.7052|\n",
            "|          FDP36|     10.395|         Regular|            0.0|        Baking Goods| 51.4008|           OUT018|                     2009|     Medium|              Tier 3|Supermarket Type2|         556.6088|\n",
            "|          FDO10|      13.65|         Regular|    0.012741089|         Snack Foods| 57.6588|           OUT013|                     1987|       High|              Tier 3|Supermarket Type1|         343.5528|\n",
            "|          FDP10|       19.0|         Low Fat|    0.127469857|         Snack Foods|107.7622|           OUT027|                     1985|     Medium|              Tier 3|Supermarket Type3|        4022.7636|\n",
            "|          FDH17|       16.2|         Regular|    0.016687114|        Frozen Foods| 96.9726|           OUT045|                     2002|       NULL|              Tier 2|Supermarket Type1|        1076.5986|\n",
            "|          FDU28|       19.2|         Regular|     0.09444959|        Frozen Foods|187.8214|           OUT017|                     2007|       NULL|              Tier 2|Supermarket Type1|         4710.535|\n",
            "+---------------+-----------+----------------+---------------+--------------------+--------+-----------------+-------------------------+-----------+--------------------+-----------------+-----------------+\n",
            "only showing top 10 rows\n",
            "\n"
          ]
        }
      ]
    },
    {
      "cell_type": "code",
      "source": [
        "# Checking nulls\n",
        "\n",
        "df.select([count(when(col(c).isNull(), c)).alias(c) for c in df.columns]).show()"
      ],
      "metadata": {
        "colab": {
          "base_uri": "https://localhost:8080/"
        },
        "id": "JNMgdXZwEPMy",
        "outputId": "4ba9b880-5ed4-4cb5-b8a2-427641dba9b3"
      },
      "execution_count": 25,
      "outputs": [
        {
          "output_type": "stream",
          "name": "stdout",
          "text": [
            "+---------------+-----------+----------------+---------------+---------+--------+-----------------+-------------------------+-----------+--------------------+-----------+-----------------+\n",
            "|Item_Identifier|Item_Weight|Item_Fat_Content|Item_Visibility|Item_Type|Item_MRP|Outlet_Identifier|Outlet_Establishment_Year|Outlet_Size|Outlet_Location_Type|Outlet_Type|Item_Outlet_Sales|\n",
            "+---------------+-----------+----------------+---------------+---------+--------+-----------------+-------------------------+-----------+--------------------+-----------+-----------------+\n",
            "|              0|          4|               0|              0|        0|       0|                0|                        0|       2410|                   0|          0|                0|\n",
            "+---------------+-----------+----------------+---------------+---------+--------+-----------------+-------------------------+-----------+--------------------+-----------+-----------------+\n",
            "\n"
          ]
        }
      ]
    },
    {
      "cell_type": "code",
      "source": [
        "# Remaining 4 nulls\n",
        "\n",
        "df.filter(col(\"Item_Weight\").isNull()).show()"
      ],
      "metadata": {
        "colab": {
          "base_uri": "https://localhost:8080/"
        },
        "id": "iTJJcRSuESN7",
        "outputId": "1bc0c8b5-ff89-4df3-9cb5-2f60d9e38832"
      },
      "execution_count": 26,
      "outputs": [
        {
          "output_type": "stream",
          "name": "stdout",
          "text": [
            "+---------------+-----------+----------------+---------------+------------+--------+-----------------+-------------------------+-----------+--------------------+-----------------+-----------------+\n",
            "|Item_Identifier|Item_Weight|Item_Fat_Content|Item_Visibility|   Item_Type|Item_MRP|Outlet_Identifier|Outlet_Establishment_Year|Outlet_Size|Outlet_Location_Type|      Outlet_Type|Item_Outlet_Sales|\n",
            "+---------------+-----------+----------------+---------------+------------+--------+-----------------+-------------------------+-----------+--------------------+-----------------+-----------------+\n",
            "|          FDN52|       NULL|         Regular|     0.13093275|Frozen Foods| 86.9198|           OUT027|                     1985|     Medium|              Tier 3|Supermarket Type3|        1569.9564|\n",
            "|          FDK57|       NULL|         Low Fat|    0.079904068| Snack Foods| 120.044|           OUT027|                     1985|     Medium|              Tier 3|Supermarket Type3|         4434.228|\n",
            "|          FDE52|       NULL|         Regular|     0.02974207|       Dairy| 88.9514|           OUT027|                     1985|     Medium|              Tier 3|Supermarket Type3|        3453.5046|\n",
            "|          FDQ60|       NULL|         Regular|    0.191500528|Baking Goods|121.2098|           OUT019|                     1985|      Small|              Tier 1|    Grocery Store|         120.5098|\n",
            "+---------------+-----------+----------------+---------------+------------+--------+-----------------+-------------------------+-----------+--------------------+-----------------+-----------------+\n",
            "\n"
          ]
        }
      ]
    },
    {
      "cell_type": "code",
      "source": [
        "# Filling those 4 nulls\n",
        "\n",
        "df = df.withColumn(\"Item_Weight\", when(col(\"Item_Identifier\") == \"FDN52\", 15.8)\n",
        "                                     .when(col(\"Item_Identifier\") == \"FDK57\", 20.5)\n",
        "                                     .when(col(\"Item_Identifier\") == \"FDE52\", 16.3)\n",
        "                                     .when(col(\"Item_Identifier\") == \"FDQ60\", 21.7)\n",
        "                                     .otherwise(col(\"Item_Weight\")))\n"
      ],
      "metadata": {
        "id": "o79s4JbIEUw1"
      },
      "execution_count": 27,
      "outputs": []
    },
    {
      "cell_type": "code",
      "source": [
        "# checking those 4 nulls\n",
        "\n",
        "df.filter(df.Item_Identifier.isin(\"FDN52\", \"FDK57\", \"FDE52\", \"FDQ60\")).select(\"Item_Identifier\", \"Item_Type\", \"Item_Weight\").show()"
      ],
      "metadata": {
        "colab": {
          "base_uri": "https://localhost:8080/"
        },
        "id": "9QOfoQ1GEcz0",
        "outputId": "d5806bf3-ed6c-477e-e78c-63fc23b9c44b"
      },
      "execution_count": 28,
      "outputs": [
        {
          "output_type": "stream",
          "name": "stdout",
          "text": [
            "+---------------+------------+-----------+\n",
            "|Item_Identifier|   Item_Type|Item_Weight|\n",
            "+---------------+------------+-----------+\n",
            "|          FDN52|Frozen Foods|       15.8|\n",
            "|          FDK57| Snack Foods|       20.5|\n",
            "|          FDE52|       Dairy|       16.3|\n",
            "|          FDQ60|Baking Goods|       21.7|\n",
            "+---------------+------------+-----------+\n",
            "\n"
          ]
        }
      ]
    },
    {
      "cell_type": "code",
      "source": [
        "# Rounding off Item_Weight values\n",
        "\n",
        "df = df.withColumn(\"Item_Weight\", round(df[\"Item_Weight\"], 1))"
      ],
      "metadata": {
        "id": "Iu4aDTbKEfW_"
      },
      "execution_count": 29,
      "outputs": []
    },
    {
      "cell_type": "code",
      "source": [
        "# Checking nulls ,,, 0 nulls in Item_Weight column\n",
        "\n",
        "df.select([count(when(col(c).isNull(), c)).alias(c) for c in df.columns]).show()"
      ],
      "metadata": {
        "colab": {
          "base_uri": "https://localhost:8080/"
        },
        "id": "wEeDkw2KEqob",
        "outputId": "b01231dc-fc96-470c-cc08-c95bc13025b9"
      },
      "execution_count": 30,
      "outputs": [
        {
          "output_type": "stream",
          "name": "stdout",
          "text": [
            "+---------------+-----------+----------------+---------------+---------+--------+-----------------+-------------------------+-----------+--------------------+-----------+-----------------+\n",
            "|Item_Identifier|Item_Weight|Item_Fat_Content|Item_Visibility|Item_Type|Item_MRP|Outlet_Identifier|Outlet_Establishment_Year|Outlet_Size|Outlet_Location_Type|Outlet_Type|Item_Outlet_Sales|\n",
            "+---------------+-----------+----------------+---------------+---------+--------+-----------------+-------------------------+-----------+--------------------+-----------+-----------------+\n",
            "|              0|          0|               0|              0|        0|       0|                0|                        0|       2410|                   0|          0|                0|\n",
            "+---------------+-----------+----------------+---------------+---------+--------+-----------------+-------------------------+-----------+--------------------+-----------+-----------------+\n",
            "\n"
          ]
        }
      ]
    },
    {
      "cell_type": "code",
      "source": [
        "df.show(10)"
      ],
      "metadata": {
        "colab": {
          "base_uri": "https://localhost:8080/"
        },
        "id": "OW658NiXEtUo",
        "outputId": "a538472e-5ebe-4e8b-b600-af42ccf25257"
      },
      "execution_count": 31,
      "outputs": [
        {
          "output_type": "stream",
          "name": "stdout",
          "text": [
            "+---------------+-----------+----------------+---------------+--------------------+--------+-----------------+-------------------------+-----------+--------------------+-----------------+-----------------+\n",
            "|Item_Identifier|Item_Weight|Item_Fat_Content|Item_Visibility|           Item_Type|Item_MRP|Outlet_Identifier|Outlet_Establishment_Year|Outlet_Size|Outlet_Location_Type|      Outlet_Type|Item_Outlet_Sales|\n",
            "+---------------+-----------+----------------+---------------+--------------------+--------+-----------------+-------------------------+-----------+--------------------+-----------------+-----------------+\n",
            "|          FDA15|        9.3|         Low Fat|    0.016047301|               Dairy|249.8092|           OUT049|                     1999|     Medium|              Tier 1|Supermarket Type1|         3735.138|\n",
            "|          DRC01|        5.9|         Regular|    0.019278216|         Soft Drinks| 48.2692|           OUT018|                     2009|     Medium|              Tier 3|Supermarket Type2|         443.4228|\n",
            "|          FDN15|       17.5|         Low Fat|    0.016760075|                Meat| 141.618|           OUT049|                     1999|     Medium|              Tier 1|Supermarket Type1|          2097.27|\n",
            "|          FDX07|       19.2|         Regular|            0.0|Fruits and Vegeta...| 182.095|           OUT010|                     1998|       NULL|              Tier 3|    Grocery Store|           732.38|\n",
            "|          NCD19|        8.9|         Low Fat|            0.0|           Household| 53.8614|           OUT013|                     1987|       High|              Tier 3|Supermarket Type1|         994.7052|\n",
            "|          FDP36|       10.4|         Regular|            0.0|        Baking Goods| 51.4008|           OUT018|                     2009|     Medium|              Tier 3|Supermarket Type2|         556.6088|\n",
            "|          FDO10|       13.7|         Regular|    0.012741089|         Snack Foods| 57.6588|           OUT013|                     1987|       High|              Tier 3|Supermarket Type1|         343.5528|\n",
            "|          FDP10|       19.0|         Low Fat|    0.127469857|         Snack Foods|107.7622|           OUT027|                     1985|     Medium|              Tier 3|Supermarket Type3|        4022.7636|\n",
            "|          FDH17|       16.2|         Regular|    0.016687114|        Frozen Foods| 96.9726|           OUT045|                     2002|       NULL|              Tier 2|Supermarket Type1|        1076.5986|\n",
            "|          FDU28|       19.2|         Regular|     0.09444959|        Frozen Foods|187.8214|           OUT017|                     2007|       NULL|              Tier 2|Supermarket Type1|         4710.535|\n",
            "+---------------+-----------+----------------+---------------+--------------------+--------+-----------------+-------------------------+-----------+--------------------+-----------------+-----------------+\n",
            "only showing top 10 rows\n",
            "\n"
          ]
        }
      ]
    },
    {
      "cell_type": "code",
      "source": [
        "# ------- [Filling nulls in Outlet_Size column with Most Frequent Value i.e Small or Medium or High] --------"
      ],
      "metadata": {
        "id": "USTav_nyEyhb"
      },
      "execution_count": 32,
      "outputs": []
    },
    {
      "cell_type": "code",
      "source": [
        "# Get the most frequent outlet size\n",
        "\n",
        "mode_outlet_size = df.groupBy(\"Outlet_Size\").count().orderBy(\"count\", ascending=False).first()[0]"
      ],
      "metadata": {
        "id": "Fo50RWMgE2vw"
      },
      "execution_count": 33,
      "outputs": []
    },
    {
      "cell_type": "code",
      "source": [
        "# Fill nulls with the most frequent outlet size\n",
        "\n",
        "df = df.fillna({\"Outlet_Size\": mode_outlet_size})"
      ],
      "metadata": {
        "id": "flhfZwosE44z"
      },
      "execution_count": 34,
      "outputs": []
    },
    {
      "cell_type": "code",
      "source": [
        "# Checking nulls ,,, 0 nulls in Outlet_Size column\n",
        "\n",
        "df.select([count(when(col(c).isNull(), c)).alias(c) for c in df.columns]).show()"
      ],
      "metadata": {
        "colab": {
          "base_uri": "https://localhost:8080/"
        },
        "id": "RR89HPiRE7bI",
        "outputId": "e19f0e39-40c7-4e99-be94-8cba694321a3"
      },
      "execution_count": 35,
      "outputs": [
        {
          "output_type": "stream",
          "name": "stdout",
          "text": [
            "+---------------+-----------+----------------+---------------+---------+--------+-----------------+-------------------------+-----------+--------------------+-----------+-----------------+\n",
            "|Item_Identifier|Item_Weight|Item_Fat_Content|Item_Visibility|Item_Type|Item_MRP|Outlet_Identifier|Outlet_Establishment_Year|Outlet_Size|Outlet_Location_Type|Outlet_Type|Item_Outlet_Sales|\n",
            "+---------------+-----------+----------------+---------------+---------+--------+-----------------+-------------------------+-----------+--------------------+-----------+-----------------+\n",
            "|              0|          0|               0|              0|        0|       0|                0|                        0|          0|                   0|          0|                0|\n",
            "+---------------+-----------+----------------+---------------+---------+--------+-----------------+-------------------------+-----------+--------------------+-----------+-----------------+\n",
            "\n"
          ]
        }
      ]
    },
    {
      "cell_type": "code",
      "source": [
        "df.show(10)"
      ],
      "metadata": {
        "colab": {
          "base_uri": "https://localhost:8080/"
        },
        "id": "pqK-X4MRE9gC",
        "outputId": "85e5e105-9781-4b5b-900b-a8699c462652"
      },
      "execution_count": 36,
      "outputs": [
        {
          "output_type": "stream",
          "name": "stdout",
          "text": [
            "+---------------+-----------+----------------+---------------+--------------------+--------+-----------------+-------------------------+-----------+--------------------+-----------------+-----------------+\n",
            "|Item_Identifier|Item_Weight|Item_Fat_Content|Item_Visibility|           Item_Type|Item_MRP|Outlet_Identifier|Outlet_Establishment_Year|Outlet_Size|Outlet_Location_Type|      Outlet_Type|Item_Outlet_Sales|\n",
            "+---------------+-----------+----------------+---------------+--------------------+--------+-----------------+-------------------------+-----------+--------------------+-----------------+-----------------+\n",
            "|          FDA15|        9.3|         Low Fat|    0.016047301|               Dairy|249.8092|           OUT049|                     1999|     Medium|              Tier 1|Supermarket Type1|         3735.138|\n",
            "|          DRC01|        5.9|         Regular|    0.019278216|         Soft Drinks| 48.2692|           OUT018|                     2009|     Medium|              Tier 3|Supermarket Type2|         443.4228|\n",
            "|          FDN15|       17.5|         Low Fat|    0.016760075|                Meat| 141.618|           OUT049|                     1999|     Medium|              Tier 1|Supermarket Type1|          2097.27|\n",
            "|          FDX07|       19.2|         Regular|            0.0|Fruits and Vegeta...| 182.095|           OUT010|                     1998|     Medium|              Tier 3|    Grocery Store|           732.38|\n",
            "|          NCD19|        8.9|         Low Fat|            0.0|           Household| 53.8614|           OUT013|                     1987|       High|              Tier 3|Supermarket Type1|         994.7052|\n",
            "|          FDP36|       10.4|         Regular|            0.0|        Baking Goods| 51.4008|           OUT018|                     2009|     Medium|              Tier 3|Supermarket Type2|         556.6088|\n",
            "|          FDO10|       13.7|         Regular|    0.012741089|         Snack Foods| 57.6588|           OUT013|                     1987|       High|              Tier 3|Supermarket Type1|         343.5528|\n",
            "|          FDP10|       19.0|         Low Fat|    0.127469857|         Snack Foods|107.7622|           OUT027|                     1985|     Medium|              Tier 3|Supermarket Type3|        4022.7636|\n",
            "|          FDH17|       16.2|         Regular|    0.016687114|        Frozen Foods| 96.9726|           OUT045|                     2002|     Medium|              Tier 2|Supermarket Type1|        1076.5986|\n",
            "|          FDU28|       19.2|         Regular|     0.09444959|        Frozen Foods|187.8214|           OUT017|                     2007|     Medium|              Tier 2|Supermarket Type1|         4710.535|\n",
            "+---------------+-----------+----------------+---------------+--------------------+--------+-----------------+-------------------------+-----------+--------------------+-----------------+-----------------+\n",
            "only showing top 10 rows\n",
            "\n"
          ]
        }
      ]
    },
    {
      "cell_type": "code",
      "source": [
        "# ------ [Fix Inconsistent Categorical Data] ------"
      ],
      "metadata": {
        "id": "Nb1ysSprFByq"
      },
      "execution_count": 37,
      "outputs": []
    },
    {
      "cell_type": "code",
      "source": [
        "# Standardizing values in 'Item_Fat_Content'\n",
        "\n",
        "df = df.withColumn(\n",
        "    \"Item_Fat_Content\",\n",
        "    when(df[\"Item_Fat_Content\"] == \"low fat\", \"Low Fat\")\n",
        "    .when(df[\"Item_Fat_Content\"] == \"LF\", \"Low Fat\")\n",
        "    .otherwise(df[\"Item_Fat_Content\"])\n",
        ")"
      ],
      "metadata": {
        "id": "BEArM41yFE2_"
      },
      "execution_count": 38,
      "outputs": []
    },
    {
      "cell_type": "code",
      "source": [
        "# Getting distinct values from the 'Item_Fat_Content' column\n",
        "\n",
        "df.select('Item_Fat_Content').distinct().show()"
      ],
      "metadata": {
        "colab": {
          "base_uri": "https://localhost:8080/"
        },
        "id": "ZbDLlYneFG_q",
        "outputId": "21ace5c7-8aff-45a6-91b1-c8449d695749"
      },
      "execution_count": 39,
      "outputs": [
        {
          "output_type": "stream",
          "name": "stdout",
          "text": [
            "+----------------+\n",
            "|Item_Fat_Content|\n",
            "+----------------+\n",
            "|         Low Fat|\n",
            "|         Regular|\n",
            "|             reg|\n",
            "+----------------+\n",
            "\n"
          ]
        }
      ]
    },
    {
      "cell_type": "code",
      "source": [
        "# Replacing 'reg' with 'Regular' in the 'Item_Fat_Content' column\n",
        "\n",
        "df = df.withColumn('Item_Fat_Content',\n",
        "                   when(df['Item_Fat_Content'] == 'reg', 'Regular')\n",
        "                   .otherwise(df['Item_Fat_Content']))"
      ],
      "metadata": {
        "id": "lLyihLJ2FI0l"
      },
      "execution_count": 40,
      "outputs": []
    },
    {
      "cell_type": "code",
      "source": [
        "# Verify the changes\n",
        "\n",
        "df.select('Item_Fat_Content').distinct().show()"
      ],
      "metadata": {
        "colab": {
          "base_uri": "https://localhost:8080/"
        },
        "id": "IZ6NfBmOFMRW",
        "outputId": "3c39bafd-4024-410c-a29a-cf41d67c0d34"
      },
      "execution_count": 41,
      "outputs": [
        {
          "output_type": "stream",
          "name": "stdout",
          "text": [
            "+----------------+\n",
            "|Item_Fat_Content|\n",
            "+----------------+\n",
            "|         Low Fat|\n",
            "|         Regular|\n",
            "+----------------+\n",
            "\n"
          ]
        }
      ]
    },
    {
      "cell_type": "code",
      "source": [
        "df.show(10)"
      ],
      "metadata": {
        "colab": {
          "base_uri": "https://localhost:8080/"
        },
        "id": "jInvAtAuFORs",
        "outputId": "9a55809f-e3a0-4d00-8e46-16359e0b5c3c"
      },
      "execution_count": 42,
      "outputs": [
        {
          "output_type": "stream",
          "name": "stdout",
          "text": [
            "+---------------+-----------+----------------+---------------+--------------------+--------+-----------------+-------------------------+-----------+--------------------+-----------------+-----------------+\n",
            "|Item_Identifier|Item_Weight|Item_Fat_Content|Item_Visibility|           Item_Type|Item_MRP|Outlet_Identifier|Outlet_Establishment_Year|Outlet_Size|Outlet_Location_Type|      Outlet_Type|Item_Outlet_Sales|\n",
            "+---------------+-----------+----------------+---------------+--------------------+--------+-----------------+-------------------------+-----------+--------------------+-----------------+-----------------+\n",
            "|          FDA15|        9.3|         Low Fat|    0.016047301|               Dairy|249.8092|           OUT049|                     1999|     Medium|              Tier 1|Supermarket Type1|         3735.138|\n",
            "|          DRC01|        5.9|         Regular|    0.019278216|         Soft Drinks| 48.2692|           OUT018|                     2009|     Medium|              Tier 3|Supermarket Type2|         443.4228|\n",
            "|          FDN15|       17.5|         Low Fat|    0.016760075|                Meat| 141.618|           OUT049|                     1999|     Medium|              Tier 1|Supermarket Type1|          2097.27|\n",
            "|          FDX07|       19.2|         Regular|            0.0|Fruits and Vegeta...| 182.095|           OUT010|                     1998|     Medium|              Tier 3|    Grocery Store|           732.38|\n",
            "|          NCD19|        8.9|         Low Fat|            0.0|           Household| 53.8614|           OUT013|                     1987|       High|              Tier 3|Supermarket Type1|         994.7052|\n",
            "|          FDP36|       10.4|         Regular|            0.0|        Baking Goods| 51.4008|           OUT018|                     2009|     Medium|              Tier 3|Supermarket Type2|         556.6088|\n",
            "|          FDO10|       13.7|         Regular|    0.012741089|         Snack Foods| 57.6588|           OUT013|                     1987|       High|              Tier 3|Supermarket Type1|         343.5528|\n",
            "|          FDP10|       19.0|         Low Fat|    0.127469857|         Snack Foods|107.7622|           OUT027|                     1985|     Medium|              Tier 3|Supermarket Type3|        4022.7636|\n",
            "|          FDH17|       16.2|         Regular|    0.016687114|        Frozen Foods| 96.9726|           OUT045|                     2002|     Medium|              Tier 2|Supermarket Type1|        1076.5986|\n",
            "|          FDU28|       19.2|         Regular|     0.09444959|        Frozen Foods|187.8214|           OUT017|                     2007|     Medium|              Tier 2|Supermarket Type1|         4710.535|\n",
            "+---------------+-----------+----------------+---------------+--------------------+--------+-----------------+-------------------------+-----------+--------------------+-----------------+-----------------+\n",
            "only showing top 10 rows\n",
            "\n"
          ]
        }
      ]
    },
    {
      "cell_type": "code",
      "source": [
        "# ------- [Rounding off 'Item_Visibility' column values] --------"
      ],
      "metadata": {
        "id": "KDEZkh8CFR_3"
      },
      "execution_count": 43,
      "outputs": []
    },
    {
      "cell_type": "code",
      "source": [
        "# Checking 'Item_Visibility' column values\n",
        "\n",
        "df.select('Item_Visibility').show(10)"
      ],
      "metadata": {
        "colab": {
          "base_uri": "https://localhost:8080/"
        },
        "id": "I037Pvo9FXma",
        "outputId": "a61b17cf-9c08-4537-edb8-e1705b86b19d"
      },
      "execution_count": 44,
      "outputs": [
        {
          "output_type": "stream",
          "name": "stdout",
          "text": [
            "+---------------+\n",
            "|Item_Visibility|\n",
            "+---------------+\n",
            "|    0.016047301|\n",
            "|    0.019278216|\n",
            "|    0.016760075|\n",
            "|            0.0|\n",
            "|            0.0|\n",
            "|            0.0|\n",
            "|    0.012741089|\n",
            "|    0.127469857|\n",
            "|    0.016687114|\n",
            "|     0.09444959|\n",
            "+---------------+\n",
            "only showing top 10 rows\n",
            "\n"
          ]
        }
      ]
    },
    {
      "cell_type": "code",
      "source": [
        "# Round off 'Item_Visibility' to 2 decimal places\n",
        "\n",
        "df = df.withColumn('Item_Visibility', round(df['Item_Visibility'], 2))"
      ],
      "metadata": {
        "id": "LZOYXSC2FZpt"
      },
      "execution_count": 45,
      "outputs": []
    },
    {
      "cell_type": "code",
      "source": [
        "# Checking 'Item_Visibility' column values\n",
        "\n",
        "df.select('Item_Visibility').show(10)"
      ],
      "metadata": {
        "colab": {
          "base_uri": "https://localhost:8080/"
        },
        "id": "vYsW1nFRFdf3",
        "outputId": "b87d81ec-82eb-46cc-ea39-dccbb74a9ab1"
      },
      "execution_count": 46,
      "outputs": [
        {
          "output_type": "stream",
          "name": "stdout",
          "text": [
            "+---------------+\n",
            "|Item_Visibility|\n",
            "+---------------+\n",
            "|           0.02|\n",
            "|           0.02|\n",
            "|           0.02|\n",
            "|            0.0|\n",
            "|            0.0|\n",
            "|            0.0|\n",
            "|           0.01|\n",
            "|           0.13|\n",
            "|           0.02|\n",
            "|           0.09|\n",
            "+---------------+\n",
            "only showing top 10 rows\n",
            "\n"
          ]
        }
      ]
    },
    {
      "cell_type": "code",
      "source": [
        "df.show(10)"
      ],
      "metadata": {
        "colab": {
          "base_uri": "https://localhost:8080/"
        },
        "id": "zhbHkE0hFfTn",
        "outputId": "0bfd6822-605e-4877-bd00-ac0263bc84ab"
      },
      "execution_count": 47,
      "outputs": [
        {
          "output_type": "stream",
          "name": "stdout",
          "text": [
            "+---------------+-----------+----------------+---------------+--------------------+--------+-----------------+-------------------------+-----------+--------------------+-----------------+-----------------+\n",
            "|Item_Identifier|Item_Weight|Item_Fat_Content|Item_Visibility|           Item_Type|Item_MRP|Outlet_Identifier|Outlet_Establishment_Year|Outlet_Size|Outlet_Location_Type|      Outlet_Type|Item_Outlet_Sales|\n",
            "+---------------+-----------+----------------+---------------+--------------------+--------+-----------------+-------------------------+-----------+--------------------+-----------------+-----------------+\n",
            "|          FDA15|        9.3|         Low Fat|           0.02|               Dairy|249.8092|           OUT049|                     1999|     Medium|              Tier 1|Supermarket Type1|         3735.138|\n",
            "|          DRC01|        5.9|         Regular|           0.02|         Soft Drinks| 48.2692|           OUT018|                     2009|     Medium|              Tier 3|Supermarket Type2|         443.4228|\n",
            "|          FDN15|       17.5|         Low Fat|           0.02|                Meat| 141.618|           OUT049|                     1999|     Medium|              Tier 1|Supermarket Type1|          2097.27|\n",
            "|          FDX07|       19.2|         Regular|            0.0|Fruits and Vegeta...| 182.095|           OUT010|                     1998|     Medium|              Tier 3|    Grocery Store|           732.38|\n",
            "|          NCD19|        8.9|         Low Fat|            0.0|           Household| 53.8614|           OUT013|                     1987|       High|              Tier 3|Supermarket Type1|         994.7052|\n",
            "|          FDP36|       10.4|         Regular|            0.0|        Baking Goods| 51.4008|           OUT018|                     2009|     Medium|              Tier 3|Supermarket Type2|         556.6088|\n",
            "|          FDO10|       13.7|         Regular|           0.01|         Snack Foods| 57.6588|           OUT013|                     1987|       High|              Tier 3|Supermarket Type1|         343.5528|\n",
            "|          FDP10|       19.0|         Low Fat|           0.13|         Snack Foods|107.7622|           OUT027|                     1985|     Medium|              Tier 3|Supermarket Type3|        4022.7636|\n",
            "|          FDH17|       16.2|         Regular|           0.02|        Frozen Foods| 96.9726|           OUT045|                     2002|     Medium|              Tier 2|Supermarket Type1|        1076.5986|\n",
            "|          FDU28|       19.2|         Regular|           0.09|        Frozen Foods|187.8214|           OUT017|                     2007|     Medium|              Tier 2|Supermarket Type1|         4710.535|\n",
            "+---------------+-----------+----------------+---------------+--------------------+--------+-----------------+-------------------------+-----------+--------------------+-----------------+-----------------+\n",
            "only showing top 10 rows\n",
            "\n"
          ]
        }
      ]
    },
    {
      "cell_type": "code",
      "source": [
        "# ------- [Correcting names in 'Item_Type' column] --------"
      ],
      "metadata": {
        "id": "l_2nPbW8Filp"
      },
      "execution_count": 48,
      "outputs": []
    },
    {
      "cell_type": "code",
      "source": [
        "# Checking 'Item_Type' column distinct names\n",
        "\n",
        "df.select('Item_Type').distinct().show()"
      ],
      "metadata": {
        "colab": {
          "base_uri": "https://localhost:8080/"
        },
        "id": "8TeTBfmOF0uY",
        "outputId": "fb4f7991-15c1-46eb-87b2-715493ea2f29"
      },
      "execution_count": 49,
      "outputs": [
        {
          "output_type": "stream",
          "name": "stdout",
          "text": [
            "+--------------------+\n",
            "|           Item_Type|\n",
            "+--------------------+\n",
            "|       Starchy Foods|\n",
            "|        Baking Goods|\n",
            "|              Breads|\n",
            "|Fruits and Vegeta...|\n",
            "|                Meat|\n",
            "|         Hard Drinks|\n",
            "|         Soft Drinks|\n",
            "|           Household|\n",
            "|           Breakfast|\n",
            "|               Dairy|\n",
            "|         Snack Foods|\n",
            "|              Others|\n",
            "|             Seafood|\n",
            "|              Canned|\n",
            "|        Frozen Foods|\n",
            "|  Health and Hygiene|\n",
            "+--------------------+\n",
            "\n"
          ]
        }
      ]
    },
    {
      "cell_type": "code",
      "source": [
        "# Update 'Fruits and Vegetables' value properly\n",
        "\n",
        "df = df.withColumn(\n",
        "    'Item_Type',\n",
        "    when(col('Item_Type').like('Fruits and Vegeta%'), 'Fruits and Veg')\n",
        "    .otherwise(col('Item_Type'))\n",
        ")"
      ],
      "metadata": {
        "id": "u3Vog7JaF3xd"
      },
      "execution_count": 50,
      "outputs": []
    },
    {
      "cell_type": "code",
      "source": [
        "# Checking 'Item_Type' column distinct names\n",
        "\n",
        "df.select('Item_Type').distinct().show()"
      ],
      "metadata": {
        "colab": {
          "base_uri": "https://localhost:8080/"
        },
        "id": "GElcxgatGalo",
        "outputId": "d124d967-ad57-4e57-ec8e-7d145f7af358"
      },
      "execution_count": 51,
      "outputs": [
        {
          "output_type": "stream",
          "name": "stdout",
          "text": [
            "+------------------+\n",
            "|         Item_Type|\n",
            "+------------------+\n",
            "|    Fruits and Veg|\n",
            "|     Starchy Foods|\n",
            "|      Baking Goods|\n",
            "|            Breads|\n",
            "|              Meat|\n",
            "|       Hard Drinks|\n",
            "|       Soft Drinks|\n",
            "|         Household|\n",
            "|         Breakfast|\n",
            "|             Dairy|\n",
            "|       Snack Foods|\n",
            "|            Others|\n",
            "|           Seafood|\n",
            "|            Canned|\n",
            "|      Frozen Foods|\n",
            "|Health and Hygiene|\n",
            "+------------------+\n",
            "\n"
          ]
        }
      ]
    },
    {
      "cell_type": "code",
      "source": [
        "df.show(10)"
      ],
      "metadata": {
        "colab": {
          "base_uri": "https://localhost:8080/"
        },
        "id": "8--OQ-iPGd_J",
        "outputId": "a3fbf4d5-b7e4-48c8-8679-18134f23f1ab"
      },
      "execution_count": 52,
      "outputs": [
        {
          "output_type": "stream",
          "name": "stdout",
          "text": [
            "+---------------+-----------+----------------+---------------+--------------+--------+-----------------+-------------------------+-----------+--------------------+-----------------+-----------------+\n",
            "|Item_Identifier|Item_Weight|Item_Fat_Content|Item_Visibility|     Item_Type|Item_MRP|Outlet_Identifier|Outlet_Establishment_Year|Outlet_Size|Outlet_Location_Type|      Outlet_Type|Item_Outlet_Sales|\n",
            "+---------------+-----------+----------------+---------------+--------------+--------+-----------------+-------------------------+-----------+--------------------+-----------------+-----------------+\n",
            "|          FDA15|        9.3|         Low Fat|           0.02|         Dairy|249.8092|           OUT049|                     1999|     Medium|              Tier 1|Supermarket Type1|         3735.138|\n",
            "|          DRC01|        5.9|         Regular|           0.02|   Soft Drinks| 48.2692|           OUT018|                     2009|     Medium|              Tier 3|Supermarket Type2|         443.4228|\n",
            "|          FDN15|       17.5|         Low Fat|           0.02|          Meat| 141.618|           OUT049|                     1999|     Medium|              Tier 1|Supermarket Type1|          2097.27|\n",
            "|          FDX07|       19.2|         Regular|            0.0|Fruits and Veg| 182.095|           OUT010|                     1998|     Medium|              Tier 3|    Grocery Store|           732.38|\n",
            "|          NCD19|        8.9|         Low Fat|            0.0|     Household| 53.8614|           OUT013|                     1987|       High|              Tier 3|Supermarket Type1|         994.7052|\n",
            "|          FDP36|       10.4|         Regular|            0.0|  Baking Goods| 51.4008|           OUT018|                     2009|     Medium|              Tier 3|Supermarket Type2|         556.6088|\n",
            "|          FDO10|       13.7|         Regular|           0.01|   Snack Foods| 57.6588|           OUT013|                     1987|       High|              Tier 3|Supermarket Type1|         343.5528|\n",
            "|          FDP10|       19.0|         Low Fat|           0.13|   Snack Foods|107.7622|           OUT027|                     1985|     Medium|              Tier 3|Supermarket Type3|        4022.7636|\n",
            "|          FDH17|       16.2|         Regular|           0.02|  Frozen Foods| 96.9726|           OUT045|                     2002|     Medium|              Tier 2|Supermarket Type1|        1076.5986|\n",
            "|          FDU28|       19.2|         Regular|           0.09|  Frozen Foods|187.8214|           OUT017|                     2007|     Medium|              Tier 2|Supermarket Type1|         4710.535|\n",
            "+---------------+-----------+----------------+---------------+--------------+--------+-----------------+-------------------------+-----------+--------------------+-----------------+-----------------+\n",
            "only showing top 10 rows\n",
            "\n"
          ]
        }
      ]
    },
    {
      "cell_type": "code",
      "source": [
        "# ------- [Rounding off 'Item_MRP' column values] --------"
      ],
      "metadata": {
        "id": "9X5p-PNlGhAf"
      },
      "execution_count": 53,
      "outputs": []
    },
    {
      "cell_type": "code",
      "source": [
        "# Checking 'Item_MRP' column\n",
        "\n",
        "df.select('Item_MRP').show(10)"
      ],
      "metadata": {
        "colab": {
          "base_uri": "https://localhost:8080/"
        },
        "id": "BYJV-PYJGnx0",
        "outputId": "a6f05b02-d559-45d7-9c2f-80b05cb769b1"
      },
      "execution_count": 54,
      "outputs": [
        {
          "output_type": "stream",
          "name": "stdout",
          "text": [
            "+--------+\n",
            "|Item_MRP|\n",
            "+--------+\n",
            "|249.8092|\n",
            "| 48.2692|\n",
            "| 141.618|\n",
            "| 182.095|\n",
            "| 53.8614|\n",
            "| 51.4008|\n",
            "| 57.6588|\n",
            "|107.7622|\n",
            "| 96.9726|\n",
            "|187.8214|\n",
            "+--------+\n",
            "only showing top 10 rows\n",
            "\n"
          ]
        }
      ]
    },
    {
      "cell_type": "code",
      "source": [
        "# Rounding off 'Item_MRP' values to 2 decimal places\n",
        "\n",
        "df = df.withColumn(\"Item_MRP\", round(col(\"Item_MRP\"), 2))"
      ],
      "metadata": {
        "id": "xSRIReYMGp4S"
      },
      "execution_count": 55,
      "outputs": []
    },
    {
      "cell_type": "code",
      "source": [
        "# Checking 'Item_MRP' column round off values\n",
        "\n",
        "df.select('Item_MRP').show(10)"
      ],
      "metadata": {
        "colab": {
          "base_uri": "https://localhost:8080/"
        },
        "id": "g1FfVHWCGspO",
        "outputId": "8e786eed-c157-4651-dc5e-c2460ff30493"
      },
      "execution_count": 56,
      "outputs": [
        {
          "output_type": "stream",
          "name": "stdout",
          "text": [
            "+--------+\n",
            "|Item_MRP|\n",
            "+--------+\n",
            "|  249.81|\n",
            "|   48.27|\n",
            "|  141.62|\n",
            "|   182.1|\n",
            "|   53.86|\n",
            "|    51.4|\n",
            "|   57.66|\n",
            "|  107.76|\n",
            "|   96.97|\n",
            "|  187.82|\n",
            "+--------+\n",
            "only showing top 10 rows\n",
            "\n"
          ]
        }
      ]
    },
    {
      "cell_type": "code",
      "source": [
        "df.show(10)"
      ],
      "metadata": {
        "colab": {
          "base_uri": "https://localhost:8080/"
        },
        "id": "j1d0LuVzGwpu",
        "outputId": "6c95053e-5efd-4908-acca-ee1ce22a63b2"
      },
      "execution_count": 57,
      "outputs": [
        {
          "output_type": "stream",
          "name": "stdout",
          "text": [
            "+---------------+-----------+----------------+---------------+--------------+--------+-----------------+-------------------------+-----------+--------------------+-----------------+-----------------+\n",
            "|Item_Identifier|Item_Weight|Item_Fat_Content|Item_Visibility|     Item_Type|Item_MRP|Outlet_Identifier|Outlet_Establishment_Year|Outlet_Size|Outlet_Location_Type|      Outlet_Type|Item_Outlet_Sales|\n",
            "+---------------+-----------+----------------+---------------+--------------+--------+-----------------+-------------------------+-----------+--------------------+-----------------+-----------------+\n",
            "|          FDA15|        9.3|         Low Fat|           0.02|         Dairy|  249.81|           OUT049|                     1999|     Medium|              Tier 1|Supermarket Type1|         3735.138|\n",
            "|          DRC01|        5.9|         Regular|           0.02|   Soft Drinks|   48.27|           OUT018|                     2009|     Medium|              Tier 3|Supermarket Type2|         443.4228|\n",
            "|          FDN15|       17.5|         Low Fat|           0.02|          Meat|  141.62|           OUT049|                     1999|     Medium|              Tier 1|Supermarket Type1|          2097.27|\n",
            "|          FDX07|       19.2|         Regular|            0.0|Fruits and Veg|   182.1|           OUT010|                     1998|     Medium|              Tier 3|    Grocery Store|           732.38|\n",
            "|          NCD19|        8.9|         Low Fat|            0.0|     Household|   53.86|           OUT013|                     1987|       High|              Tier 3|Supermarket Type1|         994.7052|\n",
            "|          FDP36|       10.4|         Regular|            0.0|  Baking Goods|    51.4|           OUT018|                     2009|     Medium|              Tier 3|Supermarket Type2|         556.6088|\n",
            "|          FDO10|       13.7|         Regular|           0.01|   Snack Foods|   57.66|           OUT013|                     1987|       High|              Tier 3|Supermarket Type1|         343.5528|\n",
            "|          FDP10|       19.0|         Low Fat|           0.13|   Snack Foods|  107.76|           OUT027|                     1985|     Medium|              Tier 3|Supermarket Type3|        4022.7636|\n",
            "|          FDH17|       16.2|         Regular|           0.02|  Frozen Foods|   96.97|           OUT045|                     2002|     Medium|              Tier 2|Supermarket Type1|        1076.5986|\n",
            "|          FDU28|       19.2|         Regular|           0.09|  Frozen Foods|  187.82|           OUT017|                     2007|     Medium|              Tier 2|Supermarket Type1|         4710.535|\n",
            "+---------------+-----------+----------------+---------------+--------------+--------+-----------------+-------------------------+-----------+--------------------+-----------------+-----------------+\n",
            "only showing top 10 rows\n",
            "\n"
          ]
        }
      ]
    },
    {
      "cell_type": "code",
      "source": [
        "# ------- [Rounding off 'Item_Outlet_Sales' column values] --------"
      ],
      "metadata": {
        "id": "5Lt41Ui5GzIT"
      },
      "execution_count": 58,
      "outputs": []
    },
    {
      "cell_type": "code",
      "source": [
        "# Checking 'Item_MRP' column\n",
        "\n",
        "df.select('Item_Outlet_Sales').show(10)"
      ],
      "metadata": {
        "colab": {
          "base_uri": "https://localhost:8080/"
        },
        "id": "Xn22qoTUHCEZ",
        "outputId": "0f2725e1-ee4c-4fc1-b32c-9576720eb8bf"
      },
      "execution_count": 59,
      "outputs": [
        {
          "output_type": "stream",
          "name": "stdout",
          "text": [
            "+-----------------+\n",
            "|Item_Outlet_Sales|\n",
            "+-----------------+\n",
            "|         3735.138|\n",
            "|         443.4228|\n",
            "|          2097.27|\n",
            "|           732.38|\n",
            "|         994.7052|\n",
            "|         556.6088|\n",
            "|         343.5528|\n",
            "|        4022.7636|\n",
            "|        1076.5986|\n",
            "|         4710.535|\n",
            "+-----------------+\n",
            "only showing top 10 rows\n",
            "\n"
          ]
        }
      ]
    },
    {
      "cell_type": "code",
      "source": [
        "# Rounding off 'Item_Outlet_Sales' values to 2 decimal places\n",
        "\n",
        "df = df.withColumn(\"Item_Outlet_Sales\", round(col(\"Item_Outlet_Sales\"), 2))"
      ],
      "metadata": {
        "id": "V6AIvE2MHSw-"
      },
      "execution_count": 60,
      "outputs": []
    },
    {
      "cell_type": "code",
      "source": [
        "# Checking 'Item_Outlet_Sales' column round off values\n",
        "\n",
        "df.select('Item_Outlet_Sales').show(10)"
      ],
      "metadata": {
        "colab": {
          "base_uri": "https://localhost:8080/"
        },
        "id": "vAVHkIKRHZ66",
        "outputId": "91645535-23ce-4f38-a0d8-5b8f2f4b22ed"
      },
      "execution_count": 61,
      "outputs": [
        {
          "output_type": "stream",
          "name": "stdout",
          "text": [
            "+-----------------+\n",
            "|Item_Outlet_Sales|\n",
            "+-----------------+\n",
            "|          3735.14|\n",
            "|           443.42|\n",
            "|          2097.27|\n",
            "|           732.38|\n",
            "|           994.71|\n",
            "|           556.61|\n",
            "|           343.55|\n",
            "|          4022.76|\n",
            "|           1076.6|\n",
            "|          4710.54|\n",
            "+-----------------+\n",
            "only showing top 10 rows\n",
            "\n"
          ]
        }
      ]
    },
    {
      "cell_type": "code",
      "source": [
        "df.show(10)"
      ],
      "metadata": {
        "colab": {
          "base_uri": "https://localhost:8080/"
        },
        "id": "7MEGKLyGHhaN",
        "outputId": "bf25ba25-bf9a-48a2-d6f4-ba2c672fdc37"
      },
      "execution_count": 62,
      "outputs": [
        {
          "output_type": "stream",
          "name": "stdout",
          "text": [
            "+---------------+-----------+----------------+---------------+--------------+--------+-----------------+-------------------------+-----------+--------------------+-----------------+-----------------+\n",
            "|Item_Identifier|Item_Weight|Item_Fat_Content|Item_Visibility|     Item_Type|Item_MRP|Outlet_Identifier|Outlet_Establishment_Year|Outlet_Size|Outlet_Location_Type|      Outlet_Type|Item_Outlet_Sales|\n",
            "+---------------+-----------+----------------+---------------+--------------+--------+-----------------+-------------------------+-----------+--------------------+-----------------+-----------------+\n",
            "|          FDA15|        9.3|         Low Fat|           0.02|         Dairy|  249.81|           OUT049|                     1999|     Medium|              Tier 1|Supermarket Type1|          3735.14|\n",
            "|          DRC01|        5.9|         Regular|           0.02|   Soft Drinks|   48.27|           OUT018|                     2009|     Medium|              Tier 3|Supermarket Type2|           443.42|\n",
            "|          FDN15|       17.5|         Low Fat|           0.02|          Meat|  141.62|           OUT049|                     1999|     Medium|              Tier 1|Supermarket Type1|          2097.27|\n",
            "|          FDX07|       19.2|         Regular|            0.0|Fruits and Veg|   182.1|           OUT010|                     1998|     Medium|              Tier 3|    Grocery Store|           732.38|\n",
            "|          NCD19|        8.9|         Low Fat|            0.0|     Household|   53.86|           OUT013|                     1987|       High|              Tier 3|Supermarket Type1|           994.71|\n",
            "|          FDP36|       10.4|         Regular|            0.0|  Baking Goods|    51.4|           OUT018|                     2009|     Medium|              Tier 3|Supermarket Type2|           556.61|\n",
            "|          FDO10|       13.7|         Regular|           0.01|   Snack Foods|   57.66|           OUT013|                     1987|       High|              Tier 3|Supermarket Type1|           343.55|\n",
            "|          FDP10|       19.0|         Low Fat|           0.13|   Snack Foods|  107.76|           OUT027|                     1985|     Medium|              Tier 3|Supermarket Type3|          4022.76|\n",
            "|          FDH17|       16.2|         Regular|           0.02|  Frozen Foods|   96.97|           OUT045|                     2002|     Medium|              Tier 2|Supermarket Type1|           1076.6|\n",
            "|          FDU28|       19.2|         Regular|           0.09|  Frozen Foods|  187.82|           OUT017|                     2007|     Medium|              Tier 2|Supermarket Type1|          4710.54|\n",
            "+---------------+-----------+----------------+---------------+--------------+--------+-----------------+-------------------------+-----------+--------------------+-----------------+-----------------+\n",
            "only showing top 10 rows\n",
            "\n"
          ]
        }
      ]
    },
    {
      "cell_type": "code",
      "source": [
        "# ------ [Removing Duplicates] ------"
      ],
      "metadata": {
        "id": "tNGqF8XHLybN"
      },
      "execution_count": 63,
      "outputs": []
    },
    {
      "cell_type": "code",
      "source": [
        "# Step 1: Count rows before removing duplicates\n",
        "df.count()"
      ],
      "metadata": {
        "colab": {
          "base_uri": "https://localhost:8080/"
        },
        "id": "r7RXbIvDKRna",
        "outputId": "49a82781-15c9-4ca1-bf17-aafd52a9835f"
      },
      "execution_count": 64,
      "outputs": [
        {
          "output_type": "execute_result",
          "data": {
            "text/plain": [
              "8523"
            ]
          },
          "metadata": {},
          "execution_count": 64
        }
      ]
    },
    {
      "cell_type": "code",
      "source": [
        "# Step 2: Remove duplicates\n",
        "df = df.dropDuplicates()"
      ],
      "metadata": {
        "id": "4oowHrUILrAA"
      },
      "execution_count": 65,
      "outputs": []
    },
    {
      "cell_type": "code",
      "source": [
        "# Step 3: Count rows again after removing duplicates\n",
        "df.count()"
      ],
      "metadata": {
        "colab": {
          "base_uri": "https://localhost:8080/"
        },
        "id": "fGGfK-lQL3-s",
        "outputId": "82fe83af-3e67-4d9f-b772-d14d45689fd7"
      },
      "execution_count": 66,
      "outputs": [
        {
          "output_type": "execute_result",
          "data": {
            "text/plain": [
              "8523"
            ]
          },
          "metadata": {},
          "execution_count": 66
        }
      ]
    },
    {
      "cell_type": "code",
      "source": [
        "# ------ [Check data types of all columns] ------"
      ],
      "metadata": {
        "id": "FBMbKivDL678"
      },
      "execution_count": 67,
      "outputs": []
    },
    {
      "cell_type": "code",
      "source": [
        "df.dtypes"
      ],
      "metadata": {
        "colab": {
          "base_uri": "https://localhost:8080/"
        },
        "id": "7K5RWva5MzoB",
        "outputId": "6ce8d3b7-218b-4924-bf9b-e334a4e0c5c3"
      },
      "execution_count": 68,
      "outputs": [
        {
          "output_type": "execute_result",
          "data": {
            "text/plain": [
              "[('Item_Identifier', 'string'),\n",
              " ('Item_Weight', 'double'),\n",
              " ('Item_Fat_Content', 'string'),\n",
              " ('Item_Visibility', 'double'),\n",
              " ('Item_Type', 'string'),\n",
              " ('Item_MRP', 'double'),\n",
              " ('Outlet_Identifier', 'string'),\n",
              " ('Outlet_Establishment_Year', 'int'),\n",
              " ('Outlet_Size', 'string'),\n",
              " ('Outlet_Location_Type', 'string'),\n",
              " ('Outlet_Type', 'string'),\n",
              " ('Item_Outlet_Sales', 'double')]"
            ]
          },
          "metadata": {},
          "execution_count": 68
        }
      ]
    },
    {
      "cell_type": "code",
      "source": [
        "# ------ [Create Derived Columns] -------"
      ],
      "metadata": {
        "id": "j7UgRzvsJQVR"
      },
      "execution_count": 69,
      "outputs": []
    },
    {
      "cell_type": "code",
      "source": [
        "# Add Total_Revenue column\n",
        "\n",
        "df = df.withColumn(\n",
        "    \"Total_Revenue\",\n",
        "    col(\"Item_MRP\") * col(\"Item_Outlet_Sales\")\n",
        ")"
      ],
      "metadata": {
        "id": "Zf7dy53FLC55"
      },
      "execution_count": 70,
      "outputs": []
    },
    {
      "cell_type": "code",
      "source": [
        "# Add Price_Range column (Low/Medium/High)\n",
        "\n",
        "df = df.withColumn(\n",
        "    \"Price_Range\",\n",
        "    when(col(\"Item_MRP\") < 70, \"Low\")\n",
        "    .when((col(\"Item_MRP\") >= 70) & (col(\"Item_MRP\") < 150), \"Medium\")\n",
        "    .otherwise(\"High\")\n",
        ")"
      ],
      "metadata": {
        "id": "2441oduMLLNJ"
      },
      "execution_count": 71,
      "outputs": []
    },
    {
      "cell_type": "code",
      "source": [
        "# View sample output\n",
        "\n",
        "df.select(\"Item_MRP\", \"Item_Outlet_Sales\", \"Total_Revenue\", \"Price_Range\").show(10)"
      ],
      "metadata": {
        "colab": {
          "base_uri": "https://localhost:8080/"
        },
        "id": "MgcjDamGLtri",
        "outputId": "f6f6e568-f0c0-4b9f-ecfd-bf159be5db2f"
      },
      "execution_count": 72,
      "outputs": [
        {
          "output_type": "stream",
          "name": "stdout",
          "text": [
            "+--------+-----------------+------------------+-----------+\n",
            "|Item_MRP|Item_Outlet_Sales|     Total_Revenue|Price_Range|\n",
            "+--------+-----------------+------------------+-----------+\n",
            "|   91.45|          2082.62|        190455.599|     Medium|\n",
            "|    76.9|           607.21| 46694.44900000001|     Medium|\n",
            "|   55.89|           226.37|12651.819300000001|        Low|\n",
            "|  158.99|          1757.71|       279458.3129|       High|\n",
            "|  153.47|          2287.02|       350988.9594|       High|\n",
            "|   41.55|          1358.23|        56434.4565|        Low|\n",
            "|  167.11|          2874.92|480427.88120000006|       High|\n",
            "|  199.81|           2380.9|        475727.629|       High|\n",
            "|   39.65|          1024.67|        40628.1655|        Low|\n",
            "|   54.66|           884.18| 48329.27879999999|        Low|\n",
            "+--------+-----------------+------------------+-----------+\n",
            "only showing top 10 rows\n",
            "\n"
          ]
        }
      ]
    },
    {
      "cell_type": "code",
      "source": [
        "# Round off Total_Revenue column\n",
        "\n",
        "df = df.withColumn(\"Total_Revenue\", round(col(\"Total_Revenue\"), 2))"
      ],
      "metadata": {
        "id": "XxBVh1UoLzvD"
      },
      "execution_count": 73,
      "outputs": []
    },
    {
      "cell_type": "code",
      "source": [
        "# View sample output\n",
        "\n",
        "df.select(\"Item_MRP\", \"Item_Outlet_Sales\", \"Total_Revenue\", \"Price_Range\").show(10)"
      ],
      "metadata": {
        "colab": {
          "base_uri": "https://localhost:8080/"
        },
        "id": "t_2RyzO3MX4b",
        "outputId": "b813662d-1ebc-4d7c-b5ed-0b15afff0361"
      },
      "execution_count": 74,
      "outputs": [
        {
          "output_type": "stream",
          "name": "stdout",
          "text": [
            "+--------+-----------------+-------------+-----------+\n",
            "|Item_MRP|Item_Outlet_Sales|Total_Revenue|Price_Range|\n",
            "+--------+-----------------+-------------+-----------+\n",
            "|   91.45|          2082.62|     190455.6|     Medium|\n",
            "|    76.9|           607.21|     46694.45|     Medium|\n",
            "|   55.89|           226.37|     12651.82|        Low|\n",
            "|  158.99|          1757.71|    279458.31|       High|\n",
            "|  153.47|          2287.02|    350988.96|       High|\n",
            "|   41.55|          1358.23|     56434.46|        Low|\n",
            "|  167.11|          2874.92|    480427.88|       High|\n",
            "|  199.81|           2380.9|    475727.63|       High|\n",
            "|   39.65|          1024.67|     40628.17|        Low|\n",
            "|   54.66|           884.18|     48329.28|        Low|\n",
            "+--------+-----------------+-------------+-----------+\n",
            "only showing top 10 rows\n",
            "\n"
          ]
        }
      ]
    },
    {
      "cell_type": "code",
      "source": [
        "df.show(10)"
      ],
      "metadata": {
        "colab": {
          "base_uri": "https://localhost:8080/"
        },
        "id": "x4YwouJJMkl-",
        "outputId": "1a496075-fe9e-476e-bfe5-421ac7c2258e"
      },
      "execution_count": 75,
      "outputs": [
        {
          "output_type": "stream",
          "name": "stdout",
          "text": [
            "+---------------+-----------+----------------+---------------+------------------+--------+-----------------+-------------------------+-----------+--------------------+-----------------+-----------------+-------------+-----------+\n",
            "|Item_Identifier|Item_Weight|Item_Fat_Content|Item_Visibility|         Item_Type|Item_MRP|Outlet_Identifier|Outlet_Establishment_Year|Outlet_Size|Outlet_Location_Type|      Outlet_Type|Item_Outlet_Sales|Total_Revenue|Price_Range|\n",
            "+---------------+-----------+----------------+---------------+------------------+--------+-----------------+-------------------------+-----------+--------------------+-----------------+-----------------+-------------+-----------+\n",
            "|          FDL22|       16.9|         Low Fat|           0.04|       Snack Foods|   91.45|           OUT046|                     1997|      Small|              Tier 1|Supermarket Type1|          2082.62|     190455.6|     Medium|\n",
            "|          FDS19|       13.8|         Regular|           0.06|    Fruits and Veg|    76.9|           OUT013|                     1987|       High|              Tier 3|Supermarket Type1|           607.21|     46694.45|     Medium|\n",
            "|          DRI39|       13.8|         Low Fat|           0.16|             Dairy|   55.89|           OUT010|                     1998|     Medium|              Tier 3|    Grocery Store|           226.37|     12651.82|        Low|\n",
            "|          FDB38|       19.5|         Regular|           0.03|            Canned|  158.99|           OUT046|                     1997|      Small|              Tier 1|Supermarket Type1|          1757.71|    279458.31|       High|\n",
            "|          FDW01|       14.5|         Low Fat|           0.06|            Canned|  153.47|           OUT027|                     1985|     Medium|              Tier 3|Supermarket Type3|          2287.02|    350988.96|       High|\n",
            "|          NCK17|       11.0|         Low Fat|           0.04|Health and Hygiene|   41.55|           OUT027|                     1985|     Medium|              Tier 3|Supermarket Type3|          1358.23|     56434.46|        Low|\n",
            "|          FDN34|       15.6|         Regular|           0.05|       Snack Foods|  167.11|           OUT035|                     2004|      Small|              Tier 2|Supermarket Type1|          2874.92|    480427.88|       High|\n",
            "|          DRK13|       11.8|         Low Fat|           0.12|       Soft Drinks|  199.81|           OUT046|                     1997|      Small|              Tier 1|Supermarket Type1|           2380.9|    475727.63|       High|\n",
            "|          FDE32|       20.7|         Low Fat|           0.05|    Fruits and Veg|   39.65|           OUT027|                     1985|     Medium|              Tier 3|Supermarket Type3|          1024.67|     40628.17|        Low|\n",
            "|          FDO04|       16.6|         Low Fat|            0.0|      Frozen Foods|   54.66|           OUT017|                     2007|     Medium|              Tier 2|Supermarket Type1|           884.18|     48329.28|        Low|\n",
            "+---------------+-----------+----------------+---------------+------------------+--------+-----------------+-------------------------+-----------+--------------------+-----------------+-----------------+-------------+-----------+\n",
            "only showing top 10 rows\n",
            "\n"
          ]
        }
      ]
    },
    {
      "cell_type": "code",
      "source": [
        "# Backup Dataframe\n",
        "\n",
        "df_backup2 = df"
      ],
      "metadata": {
        "id": "cBbl6ZGgR5uh"
      },
      "execution_count": 76,
      "outputs": []
    },
    {
      "cell_type": "code",
      "source": [
        "df.show(5)"
      ],
      "metadata": {
        "colab": {
          "base_uri": "https://localhost:8080/"
        },
        "id": "9U7pqXCYSHL0",
        "outputId": "b25c9ebb-5d6f-4299-cc13-ef74c50b84d4"
      },
      "execution_count": 77,
      "outputs": [
        {
          "output_type": "stream",
          "name": "stdout",
          "text": [
            "+---------------+-----------+----------------+---------------+--------------+--------+-----------------+-------------------------+-----------+--------------------+-----------------+-----------------+-------------+-----------+\n",
            "|Item_Identifier|Item_Weight|Item_Fat_Content|Item_Visibility|     Item_Type|Item_MRP|Outlet_Identifier|Outlet_Establishment_Year|Outlet_Size|Outlet_Location_Type|      Outlet_Type|Item_Outlet_Sales|Total_Revenue|Price_Range|\n",
            "+---------------+-----------+----------------+---------------+--------------+--------+-----------------+-------------------------+-----------+--------------------+-----------------+-----------------+-------------+-----------+\n",
            "|          FDL22|       16.9|         Low Fat|           0.04|   Snack Foods|   91.45|           OUT046|                     1997|      Small|              Tier 1|Supermarket Type1|          2082.62|     190455.6|     Medium|\n",
            "|          FDS19|       13.8|         Regular|           0.06|Fruits and Veg|    76.9|           OUT013|                     1987|       High|              Tier 3|Supermarket Type1|           607.21|     46694.45|     Medium|\n",
            "|          DRI39|       13.8|         Low Fat|           0.16|         Dairy|   55.89|           OUT010|                     1998|     Medium|              Tier 3|    Grocery Store|           226.37|     12651.82|        Low|\n",
            "|          FDB38|       19.5|         Regular|           0.03|        Canned|  158.99|           OUT046|                     1997|      Small|              Tier 1|Supermarket Type1|          1757.71|    279458.31|       High|\n",
            "|          FDW01|       14.5|         Low Fat|           0.06|        Canned|  153.47|           OUT027|                     1985|     Medium|              Tier 3|Supermarket Type3|          2287.02|    350988.96|       High|\n",
            "+---------------+-----------+----------------+---------------+--------------+--------+-----------------+-------------------------+-----------+--------------------+-----------------+-----------------+-------------+-----------+\n",
            "only showing top 5 rows\n",
            "\n"
          ]
        }
      ]
    },
    {
      "cell_type": "code",
      "source": [
        "df_backup2.show(5)"
      ],
      "metadata": {
        "colab": {
          "base_uri": "https://localhost:8080/"
        },
        "id": "ytRVG-9FSGzX",
        "outputId": "11a194e3-13d2-441b-96e1-83e53bd6c3d9"
      },
      "execution_count": 78,
      "outputs": [
        {
          "output_type": "stream",
          "name": "stdout",
          "text": [
            "+---------------+-----------+----------------+---------------+--------------+--------+-----------------+-------------------------+-----------+--------------------+-----------------+-----------------+-------------+-----------+\n",
            "|Item_Identifier|Item_Weight|Item_Fat_Content|Item_Visibility|     Item_Type|Item_MRP|Outlet_Identifier|Outlet_Establishment_Year|Outlet_Size|Outlet_Location_Type|      Outlet_Type|Item_Outlet_Sales|Total_Revenue|Price_Range|\n",
            "+---------------+-----------+----------------+---------------+--------------+--------+-----------------+-------------------------+-----------+--------------------+-----------------+-----------------+-------------+-----------+\n",
            "|          FDL22|       16.9|         Low Fat|           0.04|   Snack Foods|   91.45|           OUT046|                     1997|      Small|              Tier 1|Supermarket Type1|          2082.62|     190455.6|     Medium|\n",
            "|          FDS19|       13.8|         Regular|           0.06|Fruits and Veg|    76.9|           OUT013|                     1987|       High|              Tier 3|Supermarket Type1|           607.21|     46694.45|     Medium|\n",
            "|          DRI39|       13.8|         Low Fat|           0.16|         Dairy|   55.89|           OUT010|                     1998|     Medium|              Tier 3|    Grocery Store|           226.37|     12651.82|        Low|\n",
            "|          FDB38|       19.5|         Regular|           0.03|        Canned|  158.99|           OUT046|                     1997|      Small|              Tier 1|Supermarket Type1|          1757.71|    279458.31|       High|\n",
            "|          FDW01|       14.5|         Low Fat|           0.06|        Canned|  153.47|           OUT027|                     1985|     Medium|              Tier 3|Supermarket Type3|          2287.02|    350988.96|       High|\n",
            "+---------------+-----------+----------------+---------------+--------------+--------+-----------------+-------------------------+-----------+--------------------+-----------------+-----------------+-------------+-----------+\n",
            "only showing top 5 rows\n",
            "\n"
          ]
        }
      ]
    },
    {
      "cell_type": "code",
      "source": [
        "# ------ [Aggregation for Insights] -------\n",
        "# Total and Average Sales by Outlet_Establishment_Year"
      ],
      "metadata": {
        "id": "dwVfSMnsMuYd"
      },
      "execution_count": 79,
      "outputs": []
    },
    {
      "cell_type": "code",
      "source": [
        "# Total Sales by Outlet_Establishment_Year\n",
        "\n",
        "df_backup2_total_sales_year = df_backup2.groupBy(\"Outlet_Establishment_Year\").agg(\n",
        "    sum(\"Item_Outlet_Sales\").alias(\"Total_Sales_Year\")\n",
        ")"
      ],
      "metadata": {
        "id": "6TUy2Q4cUNey"
      },
      "execution_count": 80,
      "outputs": []
    },
    {
      "cell_type": "code",
      "source": [
        "# Average Sales by Outlet_Establishment_Year\n",
        "\n",
        "df_backup2_avg_sales_year = df_backup2.groupBy(\"Outlet_Establishment_Year\").agg(\n",
        "    avg(\"Item_Outlet_Sales\").alias(\"Average_Sales_Year\")\n",
        ")"
      ],
      "metadata": {
        "id": "2D7FHcA0VvIT"
      },
      "execution_count": 81,
      "outputs": []
    },
    {
      "cell_type": "code",
      "source": [
        " # Join the aggregated results back into df_backup1\n",
        "\n",
        "df_backup2 = df_backup2.join(\n",
        "    df_backup2_total_sales_year, on=\"Outlet_Establishment_Year\", how=\"left\"\n",
        ").join(\n",
        "    df_backup2_avg_sales_year, on=\"Outlet_Establishment_Year\", how=\"left\"\n",
        ")"
      ],
      "metadata": {
        "id": "boN8o9QqXuOb"
      },
      "execution_count": 82,
      "outputs": []
    },
    {
      "cell_type": "code",
      "source": [
        "# Display the result\n",
        "\n",
        "df_backup2.show(10)"
      ],
      "metadata": {
        "colab": {
          "base_uri": "https://localhost:8080/"
        },
        "id": "liZGWV2yXy3Z",
        "outputId": "0d00a510-cd66-4dd3-e9f7-fbddce2dc4a4"
      },
      "execution_count": 83,
      "outputs": [
        {
          "output_type": "stream",
          "name": "stdout",
          "text": [
            "+-------------------------+---------------+-----------+----------------+---------------+------------------+--------+-----------------+-----------+--------------------+-----------------+-----------------+-------------+-----------+------------------+------------------+\n",
            "|Outlet_Establishment_Year|Item_Identifier|Item_Weight|Item_Fat_Content|Item_Visibility|         Item_Type|Item_MRP|Outlet_Identifier|Outlet_Size|Outlet_Location_Type|      Outlet_Type|Item_Outlet_Sales|Total_Revenue|Price_Range|  Total_Sales_Year|Average_Sales_Year|\n",
            "+-------------------------+---------------+-----------+----------------+---------------+------------------+--------+-----------------+-----------+--------------------+-----------------+-----------------+-------------+-----------+------------------+------------------+\n",
            "|                     1997|          FDL22|       16.9|         Low Fat|           0.04|       Snack Foods|   91.45|           OUT046|      Small|              Tier 1|Supermarket Type1|          2082.62|     190455.6|     Medium|2118395.3499999987|  2277.84446236559|\n",
            "|                     1987|          FDS19|       13.8|         Regular|           0.06|    Fruits and Veg|    76.9|           OUT013|       High|              Tier 3|Supermarket Type1|           607.21|     46694.45|     Medium|2142663.6600000025| 2298.995343347642|\n",
            "|                     1998|          DRI39|       13.8|         Low Fat|           0.16|             Dairy|   55.89|           OUT010|     Medium|              Tier 3|    Grocery Store|           226.37|     12651.82|        Low|188340.22000000026| 339.3517477477482|\n",
            "|                     1997|          FDB38|       19.5|         Regular|           0.03|            Canned|  158.99|           OUT046|      Small|              Tier 1|Supermarket Type1|          1757.71|    279458.31|       High|2118395.3499999987|  2277.84446236559|\n",
            "|                     1985|          FDW01|       14.5|         Low Fat|           0.06|            Canned|  153.47|           OUT027|     Medium|              Tier 3|Supermarket Type3|          2287.02|    350988.96|       High|3633620.2199999955|2483.6775256322594|\n",
            "|                     1985|          NCK17|       11.0|         Low Fat|           0.04|Health and Hygiene|   41.55|           OUT027|     Medium|              Tier 3|Supermarket Type3|          1358.23|     56434.46|        Low|3633620.2199999955|2483.6775256322594|\n",
            "|                     2004|          FDN34|       15.6|         Regular|           0.05|       Snack Foods|  167.11|           OUT035|      Small|              Tier 2|Supermarket Type1|          2874.92|    480427.88|       High|2268123.0899999966| 2438.842032258061|\n",
            "|                     1997|          DRK13|       11.8|         Low Fat|           0.12|       Soft Drinks|  199.81|           OUT046|      Small|              Tier 1|Supermarket Type1|           2380.9|    475727.63|       High|2118395.3499999987|  2277.84446236559|\n",
            "|                     1985|          FDE32|       20.7|         Low Fat|           0.05|    Fruits and Veg|   39.65|           OUT027|     Medium|              Tier 3|Supermarket Type3|          1024.67|     40628.17|        Low|3633620.2199999955|2483.6775256322594|\n",
            "|                     2007|          FDO04|       16.6|         Low Fat|            0.0|      Frozen Foods|   54.66|           OUT017|     Medium|              Tier 2|Supermarket Type1|           884.18|     48329.28|        Low| 2167465.520000002|2340.6755075593974|\n",
            "+-------------------------+---------------+-----------+----------------+---------------+------------------+--------+-----------------+-----------+--------------------+-----------------+-----------------+-------------+-----------+------------------+------------------+\n",
            "only showing top 10 rows\n",
            "\n"
          ]
        }
      ]
    },
    {
      "cell_type": "code",
      "source": [
        "# Round off Total_Sales_Year & Average_Sales_Year column\n",
        "\n",
        "df_backup2 = df_backup2.withColumn(\"Total_Sales_Year\", round(col(\"Total_Sales_Year\"), 2)) \\\n",
        "       .withColumn(\"Average_Sales_Year\", round(col(\"Average_Sales_Year\"), 2))"
      ],
      "metadata": {
        "id": "H-YnNuIYX84x"
      },
      "execution_count": 84,
      "outputs": []
    },
    {
      "cell_type": "code",
      "source": [
        "# View sample output\n",
        "\n",
        "df_backup2.select(\"Total_Sales_Year\", \"Average_Sales_Year\").show(10)"
      ],
      "metadata": {
        "colab": {
          "base_uri": "https://localhost:8080/"
        },
        "id": "S4ZT62dnYxkn",
        "outputId": "9f65cae4-22e2-4bdf-cf10-0392887c4c59"
      },
      "execution_count": 85,
      "outputs": [
        {
          "output_type": "stream",
          "name": "stdout",
          "text": [
            "+----------------+------------------+\n",
            "|Total_Sales_Year|Average_Sales_Year|\n",
            "+----------------+------------------+\n",
            "|      2118395.35|           2277.84|\n",
            "|      2142663.66|            2299.0|\n",
            "|       188340.22|            339.35|\n",
            "|      2118395.35|           2277.84|\n",
            "|      3633620.22|           2483.68|\n",
            "|      3633620.22|           2483.68|\n",
            "|      2268123.09|           2438.84|\n",
            "|      2118395.35|           2277.84|\n",
            "|      3633620.22|           2483.68|\n",
            "|      2167465.52|           2340.68|\n",
            "+----------------+------------------+\n",
            "only showing top 10 rows\n",
            "\n"
          ]
        }
      ]
    },
    {
      "cell_type": "code",
      "source": [
        "df_backup2.show(10)"
      ],
      "metadata": {
        "colab": {
          "base_uri": "https://localhost:8080/"
        },
        "id": "87BKNl4SY_41",
        "outputId": "130e1704-47da-49e4-ce66-c36886378ee7"
      },
      "execution_count": 86,
      "outputs": [
        {
          "output_type": "stream",
          "name": "stdout",
          "text": [
            "+-------------------------+---------------+-----------+----------------+---------------+------------------+--------+-----------------+-----------+--------------------+-----------------+-----------------+-------------+-----------+----------------+------------------+\n",
            "|Outlet_Establishment_Year|Item_Identifier|Item_Weight|Item_Fat_Content|Item_Visibility|         Item_Type|Item_MRP|Outlet_Identifier|Outlet_Size|Outlet_Location_Type|      Outlet_Type|Item_Outlet_Sales|Total_Revenue|Price_Range|Total_Sales_Year|Average_Sales_Year|\n",
            "+-------------------------+---------------+-----------+----------------+---------------+------------------+--------+-----------------+-----------+--------------------+-----------------+-----------------+-------------+-----------+----------------+------------------+\n",
            "|                     1997|          FDL22|       16.9|         Low Fat|           0.04|       Snack Foods|   91.45|           OUT046|      Small|              Tier 1|Supermarket Type1|          2082.62|     190455.6|     Medium|      2118395.35|           2277.84|\n",
            "|                     1987|          FDS19|       13.8|         Regular|           0.06|    Fruits and Veg|    76.9|           OUT013|       High|              Tier 3|Supermarket Type1|           607.21|     46694.45|     Medium|      2142663.66|            2299.0|\n",
            "|                     1998|          DRI39|       13.8|         Low Fat|           0.16|             Dairy|   55.89|           OUT010|     Medium|              Tier 3|    Grocery Store|           226.37|     12651.82|        Low|       188340.22|            339.35|\n",
            "|                     1997|          FDB38|       19.5|         Regular|           0.03|            Canned|  158.99|           OUT046|      Small|              Tier 1|Supermarket Type1|          1757.71|    279458.31|       High|      2118395.35|           2277.84|\n",
            "|                     1985|          FDW01|       14.5|         Low Fat|           0.06|            Canned|  153.47|           OUT027|     Medium|              Tier 3|Supermarket Type3|          2287.02|    350988.96|       High|      3633620.22|           2483.68|\n",
            "|                     1985|          NCK17|       11.0|         Low Fat|           0.04|Health and Hygiene|   41.55|           OUT027|     Medium|              Tier 3|Supermarket Type3|          1358.23|     56434.46|        Low|      3633620.22|           2483.68|\n",
            "|                     2004|          FDN34|       15.6|         Regular|           0.05|       Snack Foods|  167.11|           OUT035|      Small|              Tier 2|Supermarket Type1|          2874.92|    480427.88|       High|      2268123.09|           2438.84|\n",
            "|                     1997|          DRK13|       11.8|         Low Fat|           0.12|       Soft Drinks|  199.81|           OUT046|      Small|              Tier 1|Supermarket Type1|           2380.9|    475727.63|       High|      2118395.35|           2277.84|\n",
            "|                     1985|          FDE32|       20.7|         Low Fat|           0.05|    Fruits and Veg|   39.65|           OUT027|     Medium|              Tier 3|Supermarket Type3|          1024.67|     40628.17|        Low|      3633620.22|           2483.68|\n",
            "|                     2007|          FDO04|       16.6|         Low Fat|            0.0|      Frozen Foods|   54.66|           OUT017|     Medium|              Tier 2|Supermarket Type1|           884.18|     48329.28|        Low|      2167465.52|           2340.68|\n",
            "+-------------------------+---------------+-----------+----------------+---------------+------------------+--------+-----------------+-----------+--------------------+-----------------+-----------------+-------------+-----------+----------------+------------------+\n",
            "only showing top 10 rows\n",
            "\n"
          ]
        }
      ]
    },
    {
      "cell_type": "code",
      "source": [
        "# Final Dataframe\n",
        "\n",
        "df_final = df_backup2"
      ],
      "metadata": {
        "id": "nMbxmwXDZE5o"
      },
      "execution_count": 87,
      "outputs": []
    },
    {
      "cell_type": "code",
      "source": [
        "df_final.show(10)"
      ],
      "metadata": {
        "colab": {
          "base_uri": "https://localhost:8080/"
        },
        "id": "LD43clXaanMw",
        "outputId": "c7dfe8a6-3c15-4177-d10a-1742d8a498b0"
      },
      "execution_count": 88,
      "outputs": [
        {
          "output_type": "stream",
          "name": "stdout",
          "text": [
            "+-------------------------+---------------+-----------+----------------+---------------+------------------+--------+-----------------+-----------+--------------------+-----------------+-----------------+-------------+-----------+----------------+------------------+\n",
            "|Outlet_Establishment_Year|Item_Identifier|Item_Weight|Item_Fat_Content|Item_Visibility|         Item_Type|Item_MRP|Outlet_Identifier|Outlet_Size|Outlet_Location_Type|      Outlet_Type|Item_Outlet_Sales|Total_Revenue|Price_Range|Total_Sales_Year|Average_Sales_Year|\n",
            "+-------------------------+---------------+-----------+----------------+---------------+------------------+--------+-----------------+-----------+--------------------+-----------------+-----------------+-------------+-----------+----------------+------------------+\n",
            "|                     1997|          FDL22|       16.9|         Low Fat|           0.04|       Snack Foods|   91.45|           OUT046|      Small|              Tier 1|Supermarket Type1|          2082.62|     190455.6|     Medium|      2118395.35|           2277.84|\n",
            "|                     1987|          FDS19|       13.8|         Regular|           0.06|    Fruits and Veg|    76.9|           OUT013|       High|              Tier 3|Supermarket Type1|           607.21|     46694.45|     Medium|      2142663.66|            2299.0|\n",
            "|                     1998|          DRI39|       13.8|         Low Fat|           0.16|             Dairy|   55.89|           OUT010|     Medium|              Tier 3|    Grocery Store|           226.37|     12651.82|        Low|       188340.22|            339.35|\n",
            "|                     1997|          FDB38|       19.5|         Regular|           0.03|            Canned|  158.99|           OUT046|      Small|              Tier 1|Supermarket Type1|          1757.71|    279458.31|       High|      2118395.35|           2277.84|\n",
            "|                     1985|          FDW01|       14.5|         Low Fat|           0.06|            Canned|  153.47|           OUT027|     Medium|              Tier 3|Supermarket Type3|          2287.02|    350988.96|       High|      3633620.22|           2483.68|\n",
            "|                     1985|          NCK17|       11.0|         Low Fat|           0.04|Health and Hygiene|   41.55|           OUT027|     Medium|              Tier 3|Supermarket Type3|          1358.23|     56434.46|        Low|      3633620.22|           2483.68|\n",
            "|                     2004|          FDN34|       15.6|         Regular|           0.05|       Snack Foods|  167.11|           OUT035|      Small|              Tier 2|Supermarket Type1|          2874.92|    480427.88|       High|      2268123.09|           2438.84|\n",
            "|                     1997|          DRK13|       11.8|         Low Fat|           0.12|       Soft Drinks|  199.81|           OUT046|      Small|              Tier 1|Supermarket Type1|           2380.9|    475727.63|       High|      2118395.35|           2277.84|\n",
            "|                     1985|          FDE32|       20.7|         Low Fat|           0.05|    Fruits and Veg|   39.65|           OUT027|     Medium|              Tier 3|Supermarket Type3|          1024.67|     40628.17|        Low|      3633620.22|           2483.68|\n",
            "|                     2007|          FDO04|       16.6|         Low Fat|            0.0|      Frozen Foods|   54.66|           OUT017|     Medium|              Tier 2|Supermarket Type1|           884.18|     48329.28|        Low|      2167465.52|           2340.68|\n",
            "+-------------------------+---------------+-----------+----------------+---------------+------------------+--------+-----------------+-----------+--------------------+-----------------+-----------------+-------------+-----------+----------------+------------------+\n",
            "only showing top 10 rows\n",
            "\n"
          ]
        }
      ]
    },
    {
      "cell_type": "markdown",
      "source": [
        "# **QUERIES**"
      ],
      "metadata": {
        "id": "pSme-2mbYkzh"
      }
    },
    {
      "cell_type": "code",
      "source": [
        "# Register DataFrame as Temporary View"
      ],
      "metadata": {
        "id": "7p9UXNejZFHP"
      },
      "execution_count": 92,
      "outputs": []
    },
    {
      "cell_type": "code",
      "source": [
        "df_final.createOrReplaceTempView(\"retail_data\")"
      ],
      "metadata": {
        "id": "smpQDDGmYkbH"
      },
      "execution_count": 91,
      "outputs": []
    },
    {
      "cell_type": "code",
      "source": [
        "# Top 10 Products by Total Sales\n",
        "spark.sql(\"\"\"\n",
        "SELECT Item_Identifier,\n",
        "       ROUND(SUM(Item_Outlet_Sales), 2) AS Total_Sales\n",
        "FROM retail_data\n",
        "GROUP BY Item_Identifier\n",
        "ORDER BY Total_Sales DESC\n",
        "LIMIT 10\n",
        "\"\"\").show()"
      ],
      "metadata": {
        "colab": {
          "base_uri": "https://localhost:8080/"
        },
        "id": "U4dpYOOXZIoS",
        "outputId": "89b998a9-913d-43ed-f37e-860b2636f7df"
      },
      "execution_count": 93,
      "outputs": [
        {
          "output_type": "stream",
          "name": "stdout",
          "text": [
            "+---------------+-----------+\n",
            "|Item_Identifier|Total_Sales|\n",
            "+---------------+-----------+\n",
            "|          FDY55|   42661.81|\n",
            "|          FDA15|   41584.54|\n",
            "|          FDZ20|   40185.02|\n",
            "|          FDF05|   36555.75|\n",
            "|          FDA04|   35741.49|\n",
            "|          FDK03|   34843.98|\n",
            "|          NCQ06|    34680.2|\n",
            "|          NCQ53|   34508.42|\n",
            "|          FDJ55|   33531.01|\n",
            "|          FDD44|   32723.41|\n",
            "+---------------+-----------+\n",
            "\n"
          ]
        }
      ]
    },
    {
      "cell_type": "code",
      "source": [
        "# Average MRP per Item\n",
        "spark.sql(\"\"\"\n",
        "SELECT Item_Identifier,\n",
        "       ROUND(AVG(Item_MRP), 2) AS Avg_MRP\n",
        "FROM retail_data\n",
        "GROUP BY Item_Identifier\n",
        "ORDER BY Avg_MRP DESC\n",
        "\"\"\").show()"
      ],
      "metadata": {
        "colab": {
          "base_uri": "https://localhost:8080/"
        },
        "id": "XGXDuLBJZVQg",
        "outputId": "92bbae2e-2e91-4df8-8588-11b394acfb1a"
      },
      "execution_count": 94,
      "outputs": [
        {
          "output_type": "stream",
          "name": "stdout",
          "text": [
            "+---------------+-------+\n",
            "|Item_Identifier|Avg_MRP|\n",
            "+---------------+-------+\n",
            "|          FDR25| 265.47|\n",
            "|          NCS29| 265.46|\n",
            "|          FDK51| 265.42|\n",
            "|          FDS13|  265.3|\n",
            "|          FDL58| 263.96|\n",
            "|          FDI15| 263.94|\n",
            "|          FDV49| 263.85|\n",
            "|          FDB15| 263.82|\n",
            "|          NCM05| 263.62|\n",
            "|          FDY14| 263.54|\n",
            "|          FDU12| 263.45|\n",
            "|          FDK40| 263.22|\n",
            "|          NCB31| 263.09|\n",
            "|          FDY02| 263.02|\n",
            "|          FDF05| 262.89|\n",
            "|          FDS56| 262.61|\n",
            "|          FDO09| 262.39|\n",
            "|          DRF37| 262.37|\n",
            "|          FDF39| 262.32|\n",
            "|          NCS06| 262.19|\n",
            "+---------------+-------+\n",
            "only showing top 20 rows\n",
            "\n"
          ]
        }
      ]
    },
    {
      "cell_type": "code",
      "source": [
        "# Sales Trend by Establishment Year\n",
        "spark.sql(\"\"\"\n",
        "SELECT Outlet_Establishment_Year,\n",
        "       ROUND(SUM(Item_Outlet_Sales), 2) AS Total_Sales\n",
        "FROM retail_data\n",
        "GROUP BY Outlet_Establishment_Year\n",
        "ORDER BY Outlet_Establishment_Year\n",
        "\"\"\").show()"
      ],
      "metadata": {
        "colab": {
          "base_uri": "https://localhost:8080/"
        },
        "id": "uSN1HPBdZaX7",
        "outputId": "2a8b887e-1622-46dc-895a-8cfe69e15d11"
      },
      "execution_count": 95,
      "outputs": [
        {
          "output_type": "stream",
          "name": "stdout",
          "text": [
            "+-------------------------+-----------+\n",
            "|Outlet_Establishment_Year|Total_Sales|\n",
            "+-------------------------+-----------+\n",
            "|                     1985| 3633620.22|\n",
            "|                     1987| 2142663.66|\n",
            "|                     1997| 2118395.35|\n",
            "|                     1998|  188340.22|\n",
            "|                     1999| 2183969.98|\n",
            "|                     2002|  2036725.6|\n",
            "|                     2004| 2268123.09|\n",
            "|                     2007| 2167465.52|\n",
            "|                     2009| 1851822.95|\n",
            "+-------------------------+-----------+\n",
            "\n"
          ]
        }
      ]
    },
    {
      "cell_type": "code",
      "source": [
        "# Total Sales per Outlet\n",
        "spark.sql(\"\"\"\n",
        "SELECT Outlet_Identifier,\n",
        "       ROUND(SUM(Item_Outlet_Sales), 2) AS Total_Sales\n",
        "FROM retail_data\n",
        "GROUP BY Outlet_Identifier\n",
        "ORDER BY Total_Sales DESC\n",
        "\"\"\").show()"
      ],
      "metadata": {
        "colab": {
          "base_uri": "https://localhost:8080/"
        },
        "id": "hPiRC1fHZpDz",
        "outputId": "421ceacb-3e4a-4c5c-a897-83cba86c2ffb"
      },
      "execution_count": 96,
      "outputs": [
        {
          "output_type": "stream",
          "name": "stdout",
          "text": [
            "+-----------------+-----------+\n",
            "|Outlet_Identifier|Total_Sales|\n",
            "+-----------------+-----------+\n",
            "|           OUT027| 3453926.07|\n",
            "|           OUT035| 2268123.09|\n",
            "|           OUT049| 2183969.98|\n",
            "|           OUT017| 2167465.52|\n",
            "|           OUT013| 2142663.66|\n",
            "|           OUT046| 2118395.35|\n",
            "|           OUT045|  2036725.6|\n",
            "|           OUT018| 1851822.95|\n",
            "|           OUT010|  188340.22|\n",
            "|           OUT019|  179694.15|\n",
            "+-----------------+-----------+\n",
            "\n"
          ]
        }
      ]
    },
    {
      "cell_type": "code",
      "source": [
        "# Average Sales by Outlet Type\n",
        "spark.sql(\"\"\"\n",
        "SELECT Outlet_Type,\n",
        "       ROUND(AVG(Item_Outlet_Sales), 2) AS Avg_Sales\n",
        "FROM retail_data\n",
        "GROUP BY Outlet_Type\n",
        "ORDER BY Avg_Sales DESC\n",
        "\"\"\").show()"
      ],
      "metadata": {
        "colab": {
          "base_uri": "https://localhost:8080/"
        },
        "id": "YJWnwNRVaZ-s",
        "outputId": "37c577bc-7b2a-405c-8abc-02da6d9e5839"
      },
      "execution_count": 99,
      "outputs": [
        {
          "output_type": "stream",
          "name": "stdout",
          "text": [
            "+-----------------+---------+\n",
            "|      Outlet_Type|Avg_Sales|\n",
            "+-----------------+---------+\n",
            "|Supermarket Type3|  3694.04|\n",
            "|Supermarket Type1|  2316.18|\n",
            "|Supermarket Type2|   1995.5|\n",
            "|    Grocery Store|   339.83|\n",
            "+-----------------+---------+\n",
            "\n"
          ]
        }
      ]
    },
    {
      "cell_type": "code",
      "source": [
        "# Fat Content vs Sales\n",
        "spark.sql(\"\"\"\n",
        "SELECT Item_Fat_Content,\n",
        "       ROUND(SUM(Item_Outlet_Sales), 2) AS Total_Sales\n",
        "FROM retail_data\n",
        "GROUP BY Item_Fat_Content\n",
        "ORDER BY Total_Sales DESC\n",
        "\"\"\").show()"
      ],
      "metadata": {
        "colab": {
          "base_uri": "https://localhost:8080/"
        },
        "id": "2Q7odcfuatq7",
        "outputId": "bd943b89-1b12-4077-98b7-a7933472ddc8"
      },
      "execution_count": 100,
      "outputs": [
        {
          "output_type": "stream",
          "name": "stdout",
          "text": [
            "+----------------+-------------+\n",
            "|Item_Fat_Content|  Total_Sales|\n",
            "+----------------+-------------+\n",
            "|         Low Fat|1.190409541E7|\n",
            "|         Regular|   6687031.18|\n",
            "+----------------+-------------+\n",
            "\n"
          ]
        }
      ]
    },
    {
      "cell_type": "code",
      "source": [
        "# Outlet Count per Location\n",
        "spark.sql(\"\"\"\n",
        "    SELECT Outlet_Location_Type,\n",
        "           COUNT(DISTINCT Outlet_Identifier) AS Outlet_Count\n",
        "    FROM retail_data\n",
        "    GROUP BY Outlet_Location_Type\n",
        "    ORDER BY Outlet_Count DESC\n",
        "\"\"\").show()"
      ],
      "metadata": {
        "colab": {
          "base_uri": "https://localhost:8080/"
        },
        "id": "afs4e9vuZvHW",
        "outputId": "c8151903-dddd-4272-cf75-f317ff066eaf"
      },
      "execution_count": 98,
      "outputs": [
        {
          "output_type": "stream",
          "name": "stdout",
          "text": [
            "+--------------------+------------+\n",
            "|Outlet_Location_Type|Outlet_Count|\n",
            "+--------------------+------------+\n",
            "|              Tier 3|           4|\n",
            "|              Tier 2|           3|\n",
            "|              Tier 1|           3|\n",
            "+--------------------+------------+\n",
            "\n"
          ]
        }
      ]
    },
    {
      "cell_type": "markdown",
      "source": [
        "# **Loading**"
      ],
      "metadata": {
        "id": "tl3cY5J7bKui"
      }
    },
    {
      "cell_type": "code",
      "source": [
        "# Save the final cleaned DataFrame to CSV for Power BI (Load step)\n",
        "\n",
        "df_final.write.csv(\"Retail_Sales_ETL.csv\", header=True, mode=\"overwrite\")"
      ],
      "metadata": {
        "id": "enH9O9eraphP"
      },
      "execution_count": 89,
      "outputs": []
    },
    {
      "cell_type": "code",
      "source": [
        "df_final.coalesce(1).write.csv(\"Retail_ETL_Final_Single.csv\", header=True, mode=\"overwrite\")"
      ],
      "metadata": {
        "id": "4CDSOidBbVqv"
      },
      "execution_count": 90,
      "outputs": []
    }
  ]
}